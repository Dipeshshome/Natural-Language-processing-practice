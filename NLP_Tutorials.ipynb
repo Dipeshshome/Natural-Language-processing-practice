{
  "cells": [
    {
      "cell_type": "markdown",
      "metadata": {
        "id": "HV9DEHjo3ZvI"
      },
      "source": [
        "#Regex"
      ]
    },
    {
      "cell_type": "code",
      "execution_count": null,
      "metadata": {
        "colab": {
          "base_uri": "https://localhost:8080/"
        },
        "id": "gLl1B-ksq3pM",
        "outputId": "2e22ec4c-ae5d-4cd0-817f-62ba9995b22e"
      },
      "outputs": [
        {
          "data": {
            "text/plain": [
              "['412889912']"
            ]
          },
          "execution_count": 2,
          "metadata": {},
          "output_type": "execute_result"
        }
      ],
      "source": [
        "import re\n",
        "\n",
        "chat1='codebasics: Hello, I am having an issue with my order # 412889912'\n",
        "\n",
        "pattern = 'order[^\\d]*(\\d*)'\n",
        "matches = re.findall(pattern, chat1)\n",
        "matches"
      ]
    },
    {
      "cell_type": "code",
      "execution_count": null,
      "metadata": {
        "colab": {
          "base_uri": "https://localhost:8080/"
        },
        "id": "FVmQciXgrAxK",
        "outputId": "3740fb1a-5765-496f-b413-261ca101acbd"
      },
      "outputs": [
        {
          "data": {
            "text/plain": [
              "['elonmusk', 'teslarati', 'dummy_tesla', 'dummy_2_tesla']"
            ]
          },
          "execution_count": 3,
          "metadata": {},
          "output_type": "execute_result"
        }
      ],
      "source": [
        "text = '''\n",
        "Follow our leader Elon musk on twitter here: https://twitter.com/elonmusk, more information \n",
        "on Tesla's products can be found at https://www.tesla.com/. Also here are leading influencers \n",
        "for tesla related news,\n",
        "https://twitter.com/teslarati\n",
        "https://twitter.com/dummy_tesla\n",
        "https://twitter.com/dummy_2_tesla\n",
        "'''\n",
        "pattern = \"twitter.com/([0-9a-zA-Z_]*)\" # todo: type your regex here\n",
        "\n",
        "re.findall(pattern, text)"
      ]
    },
    {
      "cell_type": "code",
      "execution_count": null,
      "metadata": {
        "colab": {
          "base_uri": "https://localhost:8080/"
        },
        "id": "v7f4-4U1w2Nk",
        "outputId": "8c73292d-8b83-4df5-db84-bf0e3ec9ddfd"
      },
      "outputs": [
        {
          "data": {
            "text/plain": [
              "['Credit Risk', 'Supply Risk']"
            ]
          },
          "execution_count": 4,
          "metadata": {},
          "output_type": "execute_result"
        }
      ],
      "source": [
        "text = '''\n",
        "Concentration of Risk: Credit Risk\n",
        "Financial instruments that potentially subject us to a concentration of credit risk consist of cash, cash equivalents, marketable securities,\n",
        "restricted cash, accounts receivable, convertible note hedges, and interest rate swaps. Our cash balances are primarily invested in money market funds\n",
        "or on deposit at high credit quality financial institutions in the U.S. These deposits are typically in excess of insured limits. As of September 30, 2021\n",
        "and December 31, 2020, no entity represented 10% or more of our total accounts receivable balance. The risk of concentration for our convertible note\n",
        "hedges and interest rate swaps is mitigated by transacting with several highly-rated multinational banks.\n",
        "Concentration of Risk: Supply Risk\n",
        "We are dependent on our suppliers, including single source suppliers, and the inability of these suppliers to deliver necessary components of our\n",
        "products in a timely manner at prices, quality levels and volumes acceptable to us, or our inability to efficiently manage these components from these\n",
        "suppliers, could have a material adverse effect on our business, prospects, financial condition and operating results.\n",
        "'''\n",
        "pattern ='Concentration of Risk: (.*)' # todo: type your regex here\n",
        "\n",
        "re.findall(pattern, text)"
      ]
    },
    {
      "cell_type": "code",
      "execution_count": null,
      "metadata": {
        "colab": {
          "base_uri": "https://localhost:8080/"
        },
        "id": "XGMAkDO3ztha",
        "outputId": "d4c9db5e-9fb2-4d02-f3b6-04608e4f9617"
      },
      "outputs": [
        {
          "data": {
            "text/plain": [
              "['2021 Q1', '2021 S1']"
            ]
          },
          "execution_count": 5,
          "metadata": {},
          "output_type": "execute_result"
        }
      ],
      "source": [
        "text = '''\n",
        "Tesla's gross cost of operating lease vehicles in FY2021 Q1 was $4.85 billion.\n",
        "BMW's gross cost of operating vehicles in FY2021 S1 was $8 billion.\n",
        "'''\n",
        "\n",
        "pattern = 'FY(\\d{4} (?:Q[1-4]|S[1-4]))' # todo: type your regex here\n",
        "matches = re.findall(pattern, text)\n",
        "matches"
      ]
    },
    {
      "cell_type": "markdown",
      "metadata": {
        "id": "WM8InJ123fUw"
      },
      "source": [
        "#NLP "
      ]
    },
    {
      "cell_type": "markdown",
      "metadata": {
        "id": "njwYpWuZ3kV_"
      },
      "source": [
        "## Spam Detection\n",
        "\n",
        "Step1: Count Vectorization (number Vector) <br>\n",
        "Step2: Naive Bias Classifier (Statistical Machine Learning)<br>\n",
        "Step3: Detect spam and non spam \n"
      ]
    },
    {
      "cell_type": "markdown",
      "metadata": {
        "id": "qhMhGmXpT8lg"
      },
      "source": [
        "TF-IDF convert text into vectors or set of \n",
        "\n",
        "##NLP Tasks\n",
        "1. Fake Detection\n",
        "2. Text similarities\n",
        "3. Chatbot\n",
        "4. Text/Information extraction\n",
        "5. Machine Translation\n",
        "6. Text summerization\n",
        "7. Topic Modeling\n",
        "\n",
        "![NLP tasks.jpg](data:image/jpeg;base64,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)"
      ]
    },
    {
      "cell_type": "markdown",
      "metadata": {
        "id": "IZPiWF9mMcmh"
      },
      "source": [
        "#NLP pipeline\n",
        "\n"
      ]
    },
    {
      "cell_type": "markdown",
      "metadata": {
        "id": "t5NKahmVQ3hh"
      },
      "source": [
        "###Stemming\n",
        "\n",
        "dancing->dance\n",
        "\n",
        "###Lematization\n",
        "are->to be <br>\n",
        "better->good\n",
        "\n",
        "###Pipline\n",
        "\n",
        "Data Acquisition-->Text Extraction-->Pre-processing(word tokenization,sentance segmentation,stemming and lematization)-->Feature Extraction(TF-IDF,One hot Encoding,Word Embedding)-->model Building->Evaluation(gridsearchcv)-->Deployment(aws,azure)-->Monitor & update"
      ]
    },
    {
      "cell_type": "markdown",
      "metadata": {
        "id": "5_cX2CckqW2v"
      },
      "source": [
        "###Spacy\n",
        "is based on object oriented\n",
        "###NLTK\n",
        "is string processing library\n"
      ]
    },
    {
      "cell_type": "code",
      "execution_count": null,
      "metadata": {
        "id": "QhhnLwsWrUhY"
      },
      "outputs": [],
      "source": [
        "import spacy"
      ]
    },
    {
      "cell_type": "code",
      "execution_count": null,
      "metadata": {
        "id": "0nym-NC_rcoy"
      },
      "outputs": [],
      "source": [
        "nlp=spacy.load(\"en_core_web_sm\")"
      ]
    },
    {
      "cell_type": "code",
      "execution_count": null,
      "metadata": {
        "colab": {
          "base_uri": "https://localhost:8080/"
        },
        "id": "Wg0o1hN5rkU6",
        "outputId": "d975ad84-6c4d-4043-8bc7-272467ff3fc0"
      },
      "outputs": [
        {
          "output_type": "stream",
          "name": "stdout",
          "text": [
            "Dr.\n",
            "Strange\n",
            "loves\n",
            "pav\n",
            "bhaji\n",
            "of\n",
            "mumabai\n",
            ".\n",
            "Hulk\n",
            "loves\n",
            "chaat\n",
            "of\n",
            "delhi\n"
          ]
        }
      ],
      "source": [
        "doc=nlp(\"Dr. Strange loves pav bhaji of mumabai. Hulk loves chaat of delhi\")\n",
        "\n",
        "#Sentence Tokenization\n",
        "for sentence in doc.sents:\n",
        "  for word in sentence:\n",
        "    print(word)\n"
      ]
    },
    {
      "cell_type": "code",
      "execution_count": null,
      "metadata": {
        "colab": {
          "base_uri": "https://localhost:8080/"
        },
        "id": "H-e-8H7ltWJa",
        "outputId": "380e70ae-2b63-4484-9545-186a172ea993"
      },
      "outputs": [
        {
          "output_type": "stream",
          "name": "stderr",
          "text": [
            "[nltk_data] Downloading package punkt to /root/nltk_data...\n",
            "[nltk_data]   Unzipping tokenizers/punkt.zip.\n"
          ]
        },
        {
          "output_type": "execute_result",
          "data": {
            "text/plain": [
              "True"
            ]
          },
          "metadata": {},
          "execution_count": 8
        }
      ],
      "source": [
        "import nltk\n",
        "nltk.download('punkt')"
      ]
    },
    {
      "cell_type": "code",
      "execution_count": null,
      "metadata": {
        "colab": {
          "base_uri": "https://localhost:8080/"
        },
        "id": "PvyJvYEhvLbD",
        "outputId": "f00c9513-8788-4fa8-84a8-d536bdbb87f4"
      },
      "outputs": [
        {
          "output_type": "execute_result",
          "data": {
            "text/plain": [
              "['Dr.', 'Strange loves pav bhaji of mumabai.', 'Hulk loves chaat of delhi']"
            ]
          },
          "metadata": {},
          "execution_count": 9
        }
      ],
      "source": [
        "from nltk.tokenize import sent_tokenize\n",
        "\n",
        "sent_tokenize(\"Dr. Strange loves pav bhaji of mumabai. Hulk loves chaat of delhi\")"
      ]
    },
    {
      "cell_type": "code",
      "execution_count": null,
      "metadata": {
        "colab": {
          "base_uri": "https://localhost:8080/"
        },
        "id": "e7PGLSr1v_o_",
        "outputId": "11d8157a-6df2-4fae-db85-871be5df5474"
      },
      "outputs": [
        {
          "output_type": "stream",
          "name": "stdout",
          "text": [
            "Dr.\n",
            "Strange\n",
            "loves\n",
            "pav\n",
            "bhaji\n",
            "of\n",
            "mumabai\n",
            ".\n",
            "Hulk\n",
            "loves\n",
            "chaat\n",
            "of\n",
            "delhi\n"
          ]
        }
      ],
      "source": [
        "nlp=spacy.blank(\"en\")\n",
        "doc=nlp(\"Dr. Strange loves pav bhaji of mumabai. Hulk loves chaat of delhi\")\n",
        "#doc=nlp('''\"Let's go to N.Y!\"''')\n",
        "for token in doc:\n",
        "  print(token)\n"
      ]
    },
    {
      "cell_type": "code",
      "execution_count": null,
      "metadata": {
        "colab": {
          "base_uri": "https://localhost:8080/"
        },
        "id": "DyvDej9F6CoY",
        "outputId": "d30c1474-721e-49b8-a8a2-85a30c7949a0"
      },
      "outputs": [
        {
          "output_type": "execute_result",
          "data": {
            "text/plain": [
              "delhi"
            ]
          },
          "metadata": {},
          "execution_count": 11
        }
      ],
      "source": [
        "doc[-1]"
      ]
    },
    {
      "cell_type": "code",
      "execution_count": null,
      "metadata": {
        "colab": {
          "base_uri": "https://localhost:8080/"
        },
        "id": "0pFkcBVw9p7O",
        "outputId": "bfa5ead2-574a-49be-b79d-06472dab0f14"
      },
      "outputs": [
        {
          "output_type": "execute_result",
          "data": {
            "text/plain": [
              "Dr."
            ]
          },
          "metadata": {},
          "execution_count": 12
        }
      ],
      "source": [
        "token0=doc[0]\n",
        "token0"
      ]
    },
    {
      "cell_type": "code",
      "execution_count": null,
      "metadata": {
        "colab": {
          "base_uri": "https://localhost:8080/"
        },
        "id": "zPCwBOtf-fDe",
        "outputId": "cd7af415-8b6a-42cc-b3ab-a0aeedcb4d92"
      },
      "outputs": [
        {
          "output_type": "execute_result",
          "data": {
            "text/plain": [
              "spacy.tokens.token.Token"
            ]
          },
          "metadata": {},
          "execution_count": 13
        }
      ],
      "source": [
        "type(token0)"
      ]
    },
    {
      "cell_type": "code",
      "execution_count": null,
      "metadata": {
        "colab": {
          "base_uri": "https://localhost:8080/"
        },
        "id": "hVBfJ1wb9_c2",
        "outputId": "005abef5-c29e-4575-c359-3cbfecafb905"
      },
      "outputs": [
        {
          "output_type": "execute_result",
          "data": {
            "text/plain": [
              "False"
            ]
          },
          "metadata": {},
          "execution_count": 14
        }
      ],
      "source": [
        "token0.like_num"
      ]
    },
    {
      "cell_type": "code",
      "execution_count": null,
      "metadata": {
        "id": "9hmqb8kuES1i"
      },
      "outputs": [],
      "source": [
        "text='Dayton high school, 8th grade students information\\n ==================================================\\n \\n Name\\tbirth day   \\temail\\n -----\\t------------\\t------\\n Virat   5 June, 1882    virat@kohli.com\\n Maria\\t12 April, 2001  maria@sharapova.com\\n Serena  24 June, 1998   serena@williams.com \\n Joe      1 May, 1997    joe@root.com\\n \\n \\n \\n'"
      ]
    },
    {
      "cell_type": "code",
      "execution_count": null,
      "metadata": {
        "colab": {
          "base_uri": "https://localhost:8080/"
        },
        "id": "zwE2RtUZEU9f",
        "outputId": "ca892bb6-fda9-49aa-f11b-b564c417e9d9"
      },
      "outputs": [
        {
          "output_type": "execute_result",
          "data": {
            "text/plain": [
              "['virat@kohli.com',\n",
              " 'maria@sharapova.com',\n",
              " 'serena@williams.com',\n",
              " 'joe@root.com']"
            ]
          },
          "metadata": {},
          "execution_count": 16
        }
      ],
      "source": [
        "doc = nlp(text)\n",
        "emails = []\n",
        "for token in doc:\n",
        "    if token.like_email:\n",
        "        emails.append(token.text)\n",
        "emails "
      ]
    },
    {
      "cell_type": "code",
      "execution_count": null,
      "metadata": {
        "colab": {
          "base_uri": "https://localhost:8080/"
        },
        "id": "Td2q0KFYEbVg",
        "outputId": "232d2f81-165a-4cad-ece7-046002de125b"
      },
      "outputs": [
        {
          "output_type": "stream",
          "name": "stdout",
          "text": [
            "भैया False\n",
            "जी False\n",
            "! False\n",
            "5000 False\n",
            "₹ True\n",
            "उधार False\n",
            "थे False\n",
            "वो False\n",
            "वापस False\n",
            "देदो False\n"
          ]
        }
      ],
      "source": [
        "nlp = spacy.blank(\"hi\")\n",
        "doc = nlp(\"भैया जी! 5000 ₹ उधार थे वो वापस देदो\")\n",
        "for token in doc:\n",
        "    print(token, token.is_currency)"
      ]
    },
    {
      "cell_type": "code",
      "execution_count": null,
      "metadata": {
        "colab": {
          "base_uri": "https://localhost:8080/"
        },
        "id": "tlqmkrQQEdqs",
        "outputId": "8ff19078-8b3a-4045-fc04-d293d9f1fc91"
      },
      "outputs": [
        {
          "output_type": "execute_result",
          "data": {
            "text/plain": [
              "['gimme', 'double', 'cheese', 'extra', 'large', 'healthy', 'pizza']"
            ]
          },
          "metadata": {},
          "execution_count": 18
        }
      ],
      "source": [
        "from spacy.symbols import ORTH\n",
        "\n",
        "nlp = spacy.blank(\"en\")\n",
        "doc = nlp(\"gimme double cheese extra large healthy pizza\")\n",
        "tokens = [token.text for token in doc]\n",
        "tokens"
      ]
    },
    {
      "cell_type": "code",
      "execution_count": null,
      "metadata": {
        "colab": {
          "base_uri": "https://localhost:8080/"
        },
        "id": "LgXRm67tEhhU",
        "outputId": "61e22358-7b34-4a21-bcd6-b7d241280069"
      },
      "outputs": [
        {
          "output_type": "execute_result",
          "data": {
            "text/plain": [
              "['gim', 'me', 'double', 'cheese', 'extra', 'large', 'healthy', 'pizza']"
            ]
          },
          "metadata": {},
          "execution_count": 19
        }
      ],
      "source": [
        "nlp.tokenizer.add_special_case(\"gimme\", [\n",
        "    {ORTH: \"gim\"},\n",
        "    {ORTH: \"me\"},\n",
        "])\n",
        "doc = nlp(\"gimme double cheese extra large healthy pizza\")\n",
        "tokens = [token.text for token in doc]\n",
        "tokens"
      ]
    },
    {
      "cell_type": "code",
      "execution_count": null,
      "metadata": {
        "colab": {
          "base_uri": "https://localhost:8080/"
        },
        "id": "8387Owq7E5At",
        "outputId": "02789e55-2b92-4d7a-a74a-44d93ac426d6"
      },
      "outputs": [
        {
          "output_type": "execute_result",
          "data": {
            "text/plain": [
              "[]"
            ]
          },
          "metadata": {},
          "execution_count": 20
        }
      ],
      "source": [
        "nlp.pipeline"
      ]
    },
    {
      "cell_type": "code",
      "execution_count": null,
      "metadata": {
        "colab": {
          "base_uri": "https://localhost:8080/"
        },
        "id": "0sFPZw6qE7I8",
        "outputId": "4cbfbec2-99f9-4356-d6d0-315bc1110614"
      },
      "outputs": [
        {
          "output_type": "execute_result",
          "data": {
            "text/plain": [
              "<spacy.pipeline.sentencizer.Sentencizer at 0x7f7bc1febb80>"
            ]
          },
          "metadata": {},
          "execution_count": 21
        }
      ],
      "source": [
        "nlp.add_pipe('sentencizer')"
      ]
    },
    {
      "cell_type": "code",
      "execution_count": null,
      "metadata": {
        "colab": {
          "base_uri": "https://localhost:8080/"
        },
        "id": "y7chsQ3sEkP3",
        "outputId": "5659907d-b153-4c26-83d7-528c56739d79"
      },
      "outputs": [
        {
          "output_type": "stream",
          "name": "stdout",
          "text": [
            "Dr. Strange loves pav bhaji of mumbai.\n",
            "Hulk loves chat of delhi\n"
          ]
        }
      ],
      "source": [
        "doc = nlp(\"Dr. Strange loves pav bhaji of mumbai. Hulk loves chat of delhi\")\n",
        "for sentence in doc.sents:\n",
        "    print(sentence)\n"
      ]
    },
    {
      "cell_type": "code",
      "execution_count": null,
      "metadata": {
        "colab": {
          "base_uri": "https://localhost:8080/"
        },
        "id": "FSC_jq4IFKYf",
        "outputId": "f372492a-cca2-4c1e-9323-989b6bddf117"
      },
      "outputs": [
        {
          "output_type": "execute_result",
          "data": {
            "text/plain": [
              "['http://www.data.gov/',\n",
              " 'http://www.science',\n",
              " 'http://data.gov.uk/.',\n",
              " 'http://www3.norc.org/gss+website/',\n",
              " 'http://www.europeansocialsurvey.org/.']"
            ]
          },
          "metadata": {},
          "execution_count": 23
        }
      ],
      "source": [
        "text='''\n",
        "Look for data to help you address the question. Governments are good\n",
        "sources because data from public research is often freely available. Good\n",
        "places to start include http://www.data.gov/, and http://www.science.\n",
        "gov/, and in the United Kingdom, http://data.gov.uk/.\n",
        "Two of my favorite data sets are the General Social Survey at http://www3.norc.org/gss+website/, \n",
        "and the European Social Survey at http://www.europeansocialsurvey.org/.\n",
        "'''\n",
        "\n",
        "# TODO: Write code here\n",
        "# Hint: token has an attribute that can be used to detect a url\n",
        "doc=nlp(text)\n",
        "urls = []\n",
        "for token in doc:\n",
        "    if token.like_url:\n",
        "        urls.append(token.text)\n",
        "urls \n",
        "\n"
      ]
    },
    {
      "cell_type": "code",
      "execution_count": null,
      "metadata": {
        "colab": {
          "base_uri": "https://localhost:8080/",
          "height": 341
        },
        "id": "l2HGsTgxHRms",
        "outputId": "ea10ca8e-682d-479a-f058-d1339f5dcfad"
      },
      "outputs": [
        {
          "output_type": "stream",
          "name": "stdout",
          "text": [
            "two $\n",
            "500 €\n"
          ]
        },
        {
          "output_type": "error",
          "ename": "IndexError",
          "evalue": "ignored",
          "traceback": [
            "\u001b[0;31m---------------------------------------------------------------------------\u001b[0m",
            "\u001b[0;31mIndexError\u001b[0m                                Traceback (most recent call last)",
            "\u001b[0;32m<ipython-input-24-9623111f4198>\u001b[0m in \u001b[0;36m<cell line: 7>\u001b[0;34m()\u001b[0m\n\u001b[1;32m      6\u001b[0m \u001b[0mdoc\u001b[0m\u001b[0;34m=\u001b[0m\u001b[0mnlp\u001b[0m\u001b[0;34m(\u001b[0m\u001b[0mtransactions\u001b[0m\u001b[0;34m)\u001b[0m\u001b[0;34m\u001b[0m\u001b[0;34m\u001b[0m\u001b[0m\n\u001b[1;32m      7\u001b[0m \u001b[0;32mfor\u001b[0m \u001b[0mtoken\u001b[0m \u001b[0;32min\u001b[0m \u001b[0mdoc\u001b[0m\u001b[0;34m:\u001b[0m\u001b[0;34m\u001b[0m\u001b[0;34m\u001b[0m\u001b[0m\n\u001b[0;32m----> 8\u001b[0;31m   \u001b[0;32mif\u001b[0m \u001b[0mdoc\u001b[0m\u001b[0;34m[\u001b[0m\u001b[0mtoken\u001b[0m\u001b[0;34m.\u001b[0m\u001b[0mi\u001b[0m\u001b[0;34m+\u001b[0m\u001b[0;36m1\u001b[0m\u001b[0;34m]\u001b[0m\u001b[0;34m.\u001b[0m\u001b[0mis_currency\u001b[0m \u001b[0;32mand\u001b[0m \u001b[0mtoken\u001b[0m\u001b[0;34m.\u001b[0m\u001b[0mlike_num\u001b[0m\u001b[0;34m:\u001b[0m\u001b[0;34m\u001b[0m\u001b[0;34m\u001b[0m\u001b[0m\n\u001b[0m\u001b[1;32m      9\u001b[0m     \u001b[0mprint\u001b[0m\u001b[0;34m(\u001b[0m\u001b[0mtoken\u001b[0m\u001b[0;34m.\u001b[0m\u001b[0mtext\u001b[0m\u001b[0;34m,\u001b[0m\u001b[0mdoc\u001b[0m\u001b[0;34m[\u001b[0m\u001b[0mtoken\u001b[0m\u001b[0;34m.\u001b[0m\u001b[0mi\u001b[0m\u001b[0;34m+\u001b[0m\u001b[0;36m1\u001b[0m\u001b[0;34m]\u001b[0m\u001b[0;34m.\u001b[0m\u001b[0mtext\u001b[0m\u001b[0;34m)\u001b[0m\u001b[0;34m\u001b[0m\u001b[0;34m\u001b[0m\u001b[0m\n\u001b[1;32m     10\u001b[0m \u001b[0;34m\u001b[0m\u001b[0m\n",
            "\u001b[0;32m/usr/local/lib/python3.9/dist-packages/spacy/tokens/doc.pyx\u001b[0m in \u001b[0;36mspacy.tokens.doc.Doc.__getitem__\u001b[0;34m()\u001b[0m\n",
            "\u001b[0;32m/usr/local/lib/python3.9/dist-packages/spacy/tokens/token.pxd\u001b[0m in \u001b[0;36mspacy.tokens.token.Token.cinit\u001b[0;34m()\u001b[0m\n",
            "\u001b[0;31mIndexError\u001b[0m: [E040] Attempt to access token at 13, max length 13."
          ]
        }
      ],
      "source": [
        "transactions = \"Tony gave two $ to Peter, Bruce gave 500 € to Steve\"\n",
        "\n",
        "# TODO: Write code here\n",
        "# Hint: Use token.i for the index of a token and token.is_currency for currency symbol detection\n",
        "\n",
        "doc=nlp(transactions)\n",
        "for token in doc:\n",
        "  if doc[token.i+1].is_currency and token.like_num:\n",
        "    print(token.text,doc[token.i+1].text)\n",
        "\n",
        "\n"
      ]
    },
    {
      "cell_type": "markdown",
      "metadata": {
        "id": "lbZHgCf2788F"
      },
      "source": [
        "##Spacy Language processing pipeline"
      ]
    },
    {
      "cell_type": "code",
      "execution_count": null,
      "metadata": {
        "id": "oha3DHrE_1LK"
      },
      "outputs": [],
      "source": [
        "nlp=spacy.blank(\"en\")"
      ]
    },
    {
      "cell_type": "code",
      "execution_count": null,
      "metadata": {
        "id": "Ag2HTccf-7jK"
      },
      "outputs": [],
      "source": [
        "doc=nlp(\"Dr. Strange loves pav bhaji of mumabai. Hulk loves chaat of delhi\")\n",
        "\n",
        "#Sentence Tokenization\n",
        "for sentence in doc:\n",
        "  print(sentence)"
      ]
    },
    {
      "cell_type": "code",
      "execution_count": null,
      "metadata": {
        "id": "XB9-djCOAzqs"
      },
      "outputs": [],
      "source": [
        "nlp=spacy.load(\"en_core_web_sm\")"
      ]
    },
    {
      "cell_type": "code",
      "execution_count": null,
      "metadata": {
        "id": "Kfprf89IAFNs"
      },
      "outputs": [],
      "source": [
        "nlp.pipe_names"
      ]
    },
    {
      "cell_type": "code",
      "execution_count": null,
      "metadata": {
        "id": "MrZ_ehAjAN10"
      },
      "outputs": [],
      "source": [
        "nlp.pipeline"
      ]
    },
    {
      "cell_type": "code",
      "execution_count": null,
      "metadata": {
        "id": "toH-q7MIAFUr"
      },
      "outputs": [],
      "source": [
        "doc=nlp(\"Dr. Strange loves pav bhaji of mumabai. Hulk loves chaat of delhi\")\n",
        "\n",
        "for token in doc:\n",
        "  print(token,\"|\",token.pos_,\"|\",token.lemma_)"
      ]
    },
    {
      "cell_type": "code",
      "execution_count": null,
      "metadata": {
        "id": "N2IqdRSfCWhk"
      },
      "outputs": [],
      "source": [
        "doc=nlp(\"Tesla Inc is going to acquire twitter for $45 billion\")\n",
        "\n",
        "for ent in doc.ents:\n",
        "  print(ent.text,\"|\",ent.label_,\"|\",spacy.explain(ent.label_))\n"
      ]
    },
    {
      "cell_type": "code",
      "execution_count": null,
      "metadata": {
        "id": "n3tSvN0gDtbJ"
      },
      "outputs": [],
      "source": [
        "from spacy import displacy\n",
        "\n",
        "displacy.render(doc,style=\"ent\")"
      ]
    },
    {
      "cell_type": "code",
      "execution_count": null,
      "metadata": {
        "id": "3FNTvRsEFrdV"
      },
      "outputs": [],
      "source": [
        "source_nlp=spacy.load(\"en_core_web_sm\")\n",
        "print(source_nlp.pipe_names)\n",
        "nlp=spacy.blank(\"en\")\n",
        "nlp.add_pipe(\"ner\",source=source_nlp)\n",
        "nlp.pipe_names\n"
      ]
    },
    {
      "cell_type": "code",
      "execution_count": null,
      "metadata": {
        "id": "V5KoYIJgO0wn"
      },
      "outputs": [],
      "source": [
        "doc=nlp(\"Tesla Inc is going to acquire twitter for $45 billion\")\n",
        "\n",
        "for ent in doc.ents:\n",
        "  print(ent.text,\"|\",ent.label_,\"|\",spacy.explain(ent.label_))"
      ]
    },
    {
      "cell_type": "code",
      "execution_count": null,
      "metadata": {
        "id": "vj4uIl2KO6V1"
      },
      "outputs": [],
      "source": [
        "text = ''' Ravi and Raju are the best friends from school days.They wanted to go for a world tour and \n",
        "visit famous cities like Paris, London, Dubai, Rome etc and also they called their another friend Mohan to take part of this world tour.\n",
        "They started their journey from Hyderabad and spent next 3 months travelling all the wonderful cities in the world and cherish a happy moments!\n",
        "'''\n",
        "\n",
        "# https://spacy.io/usage/linguistic-features\n",
        "nlp=spacy.load(\"en_core_web_sm\")\n",
        "#creating the nlp object\n",
        "doc = nlp(text)\n",
        "pron=[]   \n",
        "for token in doc:\n",
        "  if token.pos_=='PROPN':\n",
        "    pron.append(token)\n",
        "    #print(token,\"|\",token.pos_)\n",
        "pron    "
      ]
    },
    {
      "cell_type": "code",
      "execution_count": null,
      "metadata": {
        "id": "ecwVPnadRfN9"
      },
      "outputs": [],
      "source": [
        "text = '''The Top 5 companies in USA are Tesla, Walmart, Amazon, Microsoft, Google and the top 5 companies in \n",
        "India are Infosys, Reliance, HDFC Bank, Hindustan Unilever and Bharti Airtel'''\n",
        "\n",
        "\n",
        "doc = nlp(text)\n",
        "\n",
        "#list for storing the company names\n",
        "all_company_names = []\n",
        "\n",
        "for ent in doc.ents:\n",
        "  if ent.label_ == 'ORG':     #checking the whether token belongs to entity \"ORG\" [Organisation]\n",
        "    all_company_names.append(ent)\n",
        "\n",
        "\n",
        "\n",
        "#finally printing the results\n",
        "print(\"Company Names: \", all_company_names)\n",
        "print(\"Count: \", len(all_company_names))\n"
      ]
    },
    {
      "cell_type": "code",
      "execution_count": null,
      "metadata": {
        "id": "rq0SKg5pRfT7"
      },
      "outputs": [],
      "source": [
        "source_nlp=spacy.load(\"en_core_web_sm\")\n",
        "nlp=spacy.blank(\"en\")\n",
        "nlp.add_pipe(\"ner\",source=source_nlp)\n",
        "nlp.pipe_names\n"
      ]
    },
    {
      "cell_type": "markdown",
      "metadata": {
        "id": "2qn_UvztWkOP"
      },
      "source": [
        "## Stemming and Lemmatization using NLTK"
      ]
    },
    {
      "cell_type": "code",
      "execution_count": null,
      "metadata": {
        "id": "g7_qFucyWu_i"
      },
      "outputs": [],
      "source": [
        "#Stemming in NLTK\n",
        "from nltk.stem import PorterStemmer\n",
        "stemmer=PorterStemmer()"
      ]
    },
    {
      "cell_type": "code",
      "execution_count": null,
      "metadata": {
        "id": "ouypoH3kYoeU"
      },
      "outputs": [],
      "source": [
        "words = [\"eating\", \"eats\", \"eat\", \"ate\", \"adjustable\", \"rafting\", \"ability\", \"meeting\"]\n",
        "\n",
        "for word in words:\n",
        "  print(word,\"|\",stemmer.stem(word))"
      ]
    },
    {
      "cell_type": "code",
      "execution_count": null,
      "metadata": {
        "id": "0doi6ogZY9h2"
      },
      "outputs": [],
      "source": [
        "import spacy"
      ]
    },
    {
      "cell_type": "code",
      "execution_count": null,
      "metadata": {
        "id": "yaxXY4zFZsR6"
      },
      "outputs": [],
      "source": [
        "nlp = spacy.load(\"en_core_web_sm\")\n",
        "\n",
        "doc = nlp(\"Mando talked for 3 hours although talking isn't his thing\")\n",
        "doc = nlp(\"eating eats eat ate adjustable rafting ability meeting better\")\n",
        "for token in doc:\n",
        "    print(token, \" | \", token.lemma_)"
      ]
    },
    {
      "cell_type": "code",
      "execution_count": null,
      "metadata": {
        "id": "ma-UaZu3Z9Yo"
      },
      "outputs": [],
      "source": [
        "nlp.pipe_names"
      ]
    },
    {
      "cell_type": "code",
      "execution_count": null,
      "metadata": {
        "id": "iETyFSgEZ2d2"
      },
      "outputs": [],
      "source": [
        "#customizing attributer rule\n",
        "ar = nlp.get_pipe('attribute_ruler')\n",
        "\n",
        "ar.add([[{\"TEXT\":\"Bro\"}],[{\"TEXT\":\"Brah\"}]],{\"LEMMA\":\"Brother\"})\n",
        "\n",
        "doc = nlp(\"Bro, you wanna go? Brah, don't say no! I am exhausted\")\n",
        "for token in doc:\n",
        "    print(token.text, \"|\", token.lemma_)"
      ]
    },
    {
      "cell_type": "code",
      "execution_count": null,
      "metadata": {
        "id": "zcD7MvGnaT2Z"
      },
      "outputs": [],
      "source": [
        "doc[6].lemma_"
      ]
    },
    {
      "cell_type": "code",
      "execution_count": null,
      "metadata": {
        "id": "e8V-Iljeb9Gb"
      },
      "outputs": [],
      "source": [
        "#let import necessary libraries and create the object\n",
        "\n",
        "#for nltk\n",
        "import nltk\n",
        "from nltk.stem import PorterStemmer\n",
        "stemmer = PorterStemmer()\n",
        "\n",
        "#downloading all neccessary packages related to nltk\n",
        "nltk.download('all')\n",
        "\n",
        "\n",
        "#for spacy\n",
        "import spacy\n",
        "nlp = spacy.load(\"en_core_web_sm\")"
      ]
    },
    {
      "cell_type": "code",
      "execution_count": null,
      "metadata": {
        "id": "PqHyqzYVcKPy"
      },
      "outputs": [],
      "source": [
        "lst_words = ['running', 'painting', 'walking', 'dressing', 'likely', 'children', 'whom', 'good', 'ate', 'fishing']\n",
        "for word in lst_words:\n",
        "  print(word,\"|\",stemmer.stem(word))"
      ]
    },
    {
      "cell_type": "code",
      "execution_count": null,
      "metadata": {
        "id": "kuvHemQAcvtV"
      },
      "outputs": [],
      "source": [
        "lst_words = ['running', 'painting', 'walking', 'dressing', 'likely', 'children', 'whom', 'good', 'ate', 'fishing']\n",
        "doc = nlp(\"running painting walking dressing likely children who good ate fishing\")\n",
        "for token in doc:\n",
        "    print(token.text, \"|\", token.lemma_)"
      ]
    },
    {
      "cell_type": "code",
      "execution_count": null,
      "metadata": {
        "id": "fQekzinViNp1"
      },
      "outputs": [],
      "source": [
        "#Exercise \n",
        "import nltk\n",
        "from nltk.stem import PorterStemmer\n",
        "stemmer = PorterStemmer()\n",
        "#downloading all neccessary packages related to nltk\n",
        "nltk.download('all')\n",
        "#for spacy\n",
        "import spacy\n",
        "nlp = spacy.load(\"en_core_web_sm\")"
      ]
    },
    {
      "cell_type": "code",
      "execution_count": null,
      "metadata": {
        "id": "FpgOmtKddVdm"
      },
      "outputs": [],
      "source": [
        "text = \"\"\"Latha is very multi talented girl.She is good at many skills like dancing, running, singing, playing.She also likes eating Pav Bhagi. she has a \n",
        "habit of fishing and swimming too.Besides all this, she is a wonderful at cooking too.\n",
        "\"\"\""
      ]
    },
    {
      "cell_type": "code",
      "execution_count": null,
      "metadata": {
        "id": "vUdG7o0WkZX4"
      },
      "outputs": [],
      "source": [
        "doc = nlp(text)\n",
        "word_lst=[]\n",
        "for token in doc:\n",
        "  print(token,\"|\",stemmer.stem(token.text))\n",
        "  word_lst.append(stemmer.stem(token.text))\n",
        "\n",
        "my_string = ' '.join(word_lst)\n",
        "print(my_string)"
      ]
    },
    {
      "cell_type": "code",
      "execution_count": null,
      "metadata": {
        "id": "_toixMw2wKXC"
      },
      "outputs": [],
      "source": [
        "doc=nlp(text)\n",
        "\n",
        "word_lst=[]\n",
        "for token in doc:\n",
        "  print(token.text,\"|\",token.lemma_)\n",
        "  word_lst.append(token.lemma_)\n",
        "\n",
        "my_string = ' '.join(word_lst)\n",
        "print(my_string)\n"
      ]
    },
    {
      "cell_type": "code",
      "execution_count": null,
      "metadata": {
        "id": "XyWjqX6fs486"
      },
      "outputs": [],
      "source": [
        "ar = nlp.get_pipe('attribute_ruler')\n",
        "\n",
        "ar.add([[{\"TEXT\":\"Bro\"}],[{\"TEXT\":\"Brah\"}]],{\"LEMMA\":\"Brother\"})\n",
        "\n",
        "doc = nlp(\"Bro, you wanna go? Brah, don't say no! I am exhausted\")\n",
        "for token in doc:\n",
        "    print(token.text, \"|\", token.lemma_)"
      ]
    },
    {
      "cell_type": "markdown",
      "metadata": {
        "id": "CfoR-QZiSc9U"
      },
      "source": [
        "##POS Tagging"
      ]
    },
    {
      "cell_type": "code",
      "execution_count": null,
      "metadata": {
        "id": "ddmT4K0OYyMp"
      },
      "outputs": [],
      "source": [
        "import spacy\n",
        "nlp = spacy.load(\"en_core_web_sm\")"
      ]
    },
    {
      "cell_type": "code",
      "execution_count": null,
      "metadata": {
        "id": "9i9MDY3fYzO-"
      },
      "outputs": [],
      "source": [
        "nlp.pipeline"
      ]
    },
    {
      "cell_type": "code",
      "execution_count": null,
      "metadata": {
        "id": "DHfaYJHIShXk"
      },
      "outputs": [],
      "source": [
        "doc = nlp(\"Bro, you wanna go? Brah, don't say no! I am exhausted\")\n",
        "\n",
        "for token in doc:\n",
        "  print(token,\"|\", token.pos_,spacy.explain(token.pos_),token.tag_,spacy.explain(token.tag_))"
      ]
    },
    {
      "cell_type": "code",
      "execution_count": null,
      "metadata": {
        "id": "iJsnv2tHdugg"
      },
      "outputs": [],
      "source": [
        "import spacy\n",
        "nlp = spacy.load(\"en_core_web_sm\")\n",
        "\n",
        "with open(\"text.txt\",\"r\") as f:\n",
        "    news_text = f.read()\n",
        "    \n",
        "news_text[:500]"
      ]
    },
    {
      "cell_type": "code",
      "execution_count": null,
      "metadata": {
        "id": "AtCA_wP6fnhF"
      },
      "outputs": [],
      "source": [
        "doc = nlp(news_text)\n",
        "\n",
        "noun_tok=[]\n",
        "num_tok=[]\n",
        "for token in doc:\n",
        "  if token.pos_=='NOUN':\n",
        "    noun_tok.append(token)\n",
        "    #print(token,\"|\",token.pos_)\n",
        "  if token.pos_=='NUM':\n",
        "    num_tok.append(token)\n",
        "    #print(token,\"|\",token.pos_)  \n",
        "\n",
        "print(noun_tok)\n",
        "print(num_tok)"
      ]
    },
    {
      "cell_type": "code",
      "execution_count": null,
      "metadata": {
        "id": "jKm0CAYLg6Aa"
      },
      "outputs": [],
      "source": [
        "count = doc.count_by(spacy.attrs.POS)\n",
        "count"
      ]
    },
    {
      "cell_type": "code",
      "execution_count": null,
      "metadata": {
        "id": "K0tc1fUShBMW"
      },
      "outputs": [],
      "source": [
        "for k,v in count.items():\n",
        "    print(doc.vocab[k].text, \"|\",v)"
      ]
    },
    {
      "cell_type": "markdown",
      "metadata": {
        "id": "BkLTVpvi15s8"
      },
      "source": [
        "##NER-Name Entity Recongnition"
      ]
    },
    {
      "cell_type": "code",
      "execution_count": null,
      "metadata": {
        "id": "iscRIFGRraC2"
      },
      "outputs": [],
      "source": [
        "import spacy\n",
        "nlp=spacy.load('en_core_web_sm')\n",
        "nlp.pipe_names"
      ]
    },
    {
      "cell_type": "code",
      "execution_count": null,
      "metadata": {
        "id": "vicotyyPrng8"
      },
      "outputs": [],
      "source": [
        "doc=nlp(\"Tesla Inc is going to acquire twitter for $45 billion\")\n",
        "\n",
        "for ent in doc.ents:\n",
        "  print(ent.text,\"|\",ent.label_,spacy.explain(ent.label_))"
      ]
    },
    {
      "cell_type": "code",
      "execution_count": null,
      "metadata": {
        "id": "BxSOybn_sSQI"
      },
      "outputs": [],
      "source": [
        "from spacy import displacy\n",
        "\n",
        "displacy.render(doc,style=\"ent\")"
      ]
    },
    {
      "cell_type": "code",
      "execution_count": null,
      "metadata": {
        "id": "jwzMyNeTsuzb"
      },
      "outputs": [],
      "source": [
        "nlp.pipe_labels[\"ner\"]"
      ]
    },
    {
      "cell_type": "code",
      "execution_count": null,
      "metadata": {
        "id": "frUDxc8Hs0c2"
      },
      "outputs": [],
      "source": [
        "doc=nlp(\"Michael Bloomberg founded Bloomberg L.P in 1982\")\n",
        "for ent in doc.ents:\n",
        "  print(ent.text,\"|\",ent.label_,spacy.explain(ent.label_))"
      ]
    },
    {
      "cell_type": "code",
      "execution_count": null,
      "metadata": {
        "id": "4KoBnPM2tX59"
      },
      "outputs": [],
      "source": [
        "type(doc[2:6])"
      ]
    },
    {
      "cell_type": "code",
      "execution_count": null,
      "metadata": {
        "id": "bGGFI1l0tj6_"
      },
      "outputs": [],
      "source": [
        "from spacy.tokens import Span\n",
        "\n",
        "s1=Span(doc,0,1,label=\"ORG\")\n",
        "s2=Span(doc,5,6,label=\"ORG\")\n",
        "\n",
        "doc.set_ents([s1,s2],default=\"unmodified\")"
      ]
    },
    {
      "cell_type": "code",
      "execution_count": null,
      "metadata": {
        "id": "5mQKWIfcub53"
      },
      "outputs": [],
      "source": [
        "for ent in doc.ents:\n",
        "  print(ent.text,\"|\",ent.label_)"
      ]
    },
    {
      "cell_type": "code",
      "execution_count": null,
      "metadata": {
        "id": "6l7rGGRJub8V"
      },
      "outputs": [],
      "source": [
        "text = \"\"\"Kiran want to know the famous foods in each state of India. So, he opened Google and search for this question. Google showed that\n",
        "in Delhi it is Chaat, in Gujarat it is Dal Dhokli, in Tamilnadu it is Pongal, in Andhrapradesh it is Biryani, in Assam it is Papaya Khar,\n",
        "in Bihar it is Litti Chowkha and so on for all other states\"\"\"\n",
        "\n",
        "doc = nlp(text)"
      ]
    },
    {
      "cell_type": "code",
      "execution_count": null,
      "metadata": {
        "id": "vN_nGS4mwizA"
      },
      "outputs": [],
      "source": []
    },
    {
      "cell_type": "code",
      "execution_count": null,
      "metadata": {
        "id": "X1OR5IjBwRtV"
      },
      "outputs": [],
      "source": [
        "for ent in doc.ents:\n",
        "  if ent.label_==\"GPE\":\n",
        "    print(ent.text,\"|\",ent.label_)\n",
        "    "
      ]
    },
    {
      "cell_type": "code",
      "execution_count": null,
      "metadata": {
        "id": "zo-c1WgZwve1"
      },
      "outputs": [],
      "source": [
        "text = \"\"\"Sachin Tendulkar was born on 24 April 1973, Virat Kholi was born on 5 November 1988, Dhoni was born on 7 July 1981\n",
        "and finally Ricky ponting was born on 19 December 1974.\"\"\"\n",
        "\n",
        "doc = nlp(text)"
      ]
    },
    {
      "cell_type": "code",
      "execution_count": null,
      "metadata": {
        "id": "BjNl6riHwzxu"
      },
      "outputs": [],
      "source": [
        "for ent in doc.ents:\n",
        "  if ent.label_==\"DATE\":\n",
        "    print(ent.text,\"|\",ent.label_)"
      ]
    },
    {
      "cell_type": "markdown",
      "metadata": {
        "id": "_FRKix0FxcEh"
      },
      "source": [
        "##Text representation"
      ]
    },
    {
      "cell_type": "markdown",
      "metadata": {
        "id": "dLY452oDy46i"
      },
      "source": [
        "\n",
        "\n",
        "various approaches of converting text into vector\n",
        "\n",
        "Label encoding->One hot encoding->Bag of words->TF-IDF->Word Embeddings"
      ]
    },
    {
      "cell_type": "markdown",
      "metadata": {
        "id": "l2AytqD-14qQ"
      },
      "source": [
        "disadvnatge of label encoding\n",
        "\n",
        "memory inefficient\n",
        "Out of Vocabulary problem\n",
        "No fixed length representation\n",
        "\n"
      ]
    },
    {
      "cell_type": "code",
      "execution_count": null,
      "metadata": {
        "id": "SfBRsN9MZVb8"
      },
      "outputs": [],
      "source": [
        "#Import necessary libraries\n",
        "\n",
        "import pandas as pd\n",
        "import numpy as np\n",
        "from sklearn.model_selection import train_test_split\n",
        "from sklearn.feature_extraction.text import CountVectorizer\n",
        "from sklearn.ensemble import RandomForestClassifier\n",
        "from  sklearn.neighbors import KNeighborsClassifier\n",
        "from sklearn.naive_bayes import MultinomialNB\n",
        "from sklearn.pipeline import Pipeline\n",
        "from sklearn.metrics import classification_report"
      ]
    },
    {
      "cell_type": "markdown",
      "metadata": {
        "id": "eI6WyNdTA0LW"
      },
      "source": []
    },
    {
      "cell_type": "markdown",
      "metadata": {
        "id": "pYtxeq0GA0Qe"
      },
      "source": [
        "##Stop Words"
      ]
    },
    {
      "cell_type": "code",
      "execution_count": null,
      "metadata": {
        "id": "601w90OVazAL"
      },
      "outputs": [],
      "source": [
        "import spacy \n",
        "from spacy.lang.en.stop_words import STOP_WORDS\n",
        "len(STOP_WORDS)"
      ]
    },
    {
      "cell_type": "code",
      "execution_count": null,
      "metadata": {
        "id": "mtgZeO0vCTFL"
      },
      "outputs": [],
      "source": [
        "nlp = spacy.load(\"en_core_web_sm\")\n",
        "\n",
        "doc = nlp(\"We just opened our wings, the flying part is coming soon\")\n",
        "\n",
        "for token in doc:\n",
        "    if token.is_stop:\n",
        "        print(token)"
      ]
    },
    {
      "cell_type": "code",
      "execution_count": null,
      "metadata": {
        "id": "NF7fnLZPEhpO"
      },
      "outputs": [],
      "source": [
        "def preprocess(text):\n",
        "    doc = nlp(text)\n",
        "    \n",
        "    no_stop_words = [token.text for token in doc if not token.is_stop]\n",
        "    return \" \".join(no_stop_words)"
      ]
    },
    {
      "cell_type": "code",
      "execution_count": null,
      "metadata": {
        "id": "TfFX4kCZCTDm"
      },
      "outputs": [],
      "source": [
        "preprocess(\"Musk wants time to prepare for a trial over his\")"
      ]
    },
    {
      "cell_type": "code",
      "execution_count": null,
      "metadata": {
        "id": "vSFxJAe2Ekf-"
      },
      "outputs": [],
      "source": [
        "preprocess(\"The other is not other but your divine brother\")"
      ]
    },
    {
      "cell_type": "code",
      "execution_count": null,
      "metadata": {
        "id": "1IGapjFTOZrH"
      },
      "outputs": [],
      "source": [
        "import spacy\n",
        "nlp = spacy.load(\"en_core_web_sm\")"
      ]
    },
    {
      "cell_type": "code",
      "execution_count": null,
      "metadata": {
        "id": "gCWkgPhjOcPG"
      },
      "outputs": [],
      "source": [
        "text = '''\n",
        "Thor: Love and Thunder is a 2022 American superhero film based on Marvel Comics featuring the character Thor, produced by Marvel Studios and \n",
        "distributed by Walt Disney Studios Motion Pictures. It is the sequel to Thor: Ragnarok (2017) and the 29th film in the Marvel Cinematic Universe (MCU).\n",
        "The film is directed by Taika Waititi, who co-wrote the script with Jennifer Kaytin Robinson, and stars Chris Hemsworth as Thor alongside Christian Bale, Tessa Thompson,\n",
        "Jaimie Alexander, Waititi, Russell Crowe, and Natalie Portman. In the film, Thor attempts to find inner peace, but must return to action and recruit Valkyrie (Thompson),\n",
        "Korg (Waititi), and Jane Foster (Portman)—who is now the Mighty Thor—to stop Gorr the God Butcher (Bale) from eliminating all gods.\n",
        "'''"
      ]
    },
    {
      "cell_type": "code",
      "execution_count": null,
      "metadata": {
        "id": "_NW-wrI5Oez2"
      },
      "outputs": [],
      "source": [
        "doc=nlp(text)\n",
        "\n",
        "tk_lst=[]\n",
        "token_lst=[]\n",
        "for token in doc:\n",
        "  tk_lst.append(token)\n",
        "  if token.is_stop:\n",
        "    token_lst.append(token)\n",
        "\n",
        "print(token_lst)\n",
        "print(len(token_lst))\n",
        "\n",
        "print((len(token_lst)*100)/len(tk_lst))\n",
        "\n",
        "\n",
        "\n",
        "  "
      ]
    },
    {
      "cell_type": "code",
      "execution_count": null,
      "metadata": {
        "id": "tv_YPM3mRLVx"
      },
      "outputs": [],
      "source": [
        "#use this pre-processing function to pass the text and to remove all the stop words and finally get the cleaned form\n",
        "def preprocess(text):\n",
        "    doc = nlp(text)\n",
        "    no_stop_words = [token.text for token in doc if not token.is_stop]\n",
        "    return \" \".join(no_stop_words)       \n",
        "\n",
        "\n",
        "#Step1: remove the stopword 'not' in spacy\n",
        "nlp.vocab['not'].is_stop = False\n",
        "\n",
        "\n",
        "#step2: send the two texts given above into the pre-process function and store the transformed texts\n",
        "positive_text = preprocess('this is a good movie')\n",
        "negative_text = preprocess('this is not a good movie')\n",
        "\n",
        "\n",
        "#step3: finally print those 2 transformed texts\n",
        "print(f\"Text1: {positive_text}\")\n",
        "print(f\"Text2: {negative_text}\")"
      ]
    },
    {
      "cell_type": "code",
      "execution_count": null,
      "metadata": {
        "id": "zP-hShQlTsVy"
      },
      "outputs": [],
      "source": [
        "text = ''' The India men's national cricket team, also known as Team India or the Men in Blue, represents India in men's international cricket.\n",
        "It is governed by the Board of Control for Cricket in India (BCCI), and is a Full Member of the International Cricket Council (ICC) with Test,\n",
        "One Day International (ODI) and Twenty20 International (T20I) status. Cricket was introduced to India by British sailors in the 18th century, and the \n",
        "first cricket club was established in 1792. India's national cricket team played its first Test match on 25 June 1932 at Lord's, becoming the sixth team to be\n",
        "granted test cricket status.\n",
        "'''\n",
        "\n",
        "\n",
        "#step1: Create the object 'doc' for the given text using nlp()\n",
        "doc = nlp(text)\n",
        "\n",
        "\n",
        "#step2: remove all the stop words and punctuations and store all the remaining tokens in a new list\n",
        "remaining_tokens = []\n",
        "for token in doc:\n",
        "  if token.is_stop or token.is_punct:    #check whether a given token is stop word or punctuations\n",
        "    continue\n",
        "  remaining_tokens.append(token.text)\n",
        "\n",
        "\n",
        "#step3: create a new dictionary and get the frequency of words by iterating through the list which contains stored tokens  \n",
        "frequency_tokens = {}\n",
        "for token in remaining_tokens:\n",
        "  if token != '\\n' and token != ' ':      #As spacy considers new line and empty spaces as seperate token, it's better to ignore them\n",
        "    if token not in frequency_tokens:     #if a particular token occurs for the first time, we initialise it to 1\n",
        "      frequency_tokens[token] = 1\n",
        "    else:\n",
        "      frequency_tokens[token] += 1        #if a partcular token is already present, then increment by 1 based on value already presented\n",
        "\n",
        "\n",
        "#step4: get the maximum frequency word\n",
        "max_freq_word = max(frequency_tokens.keys(), key=(lambda key: frequency_tokens[key]))\n",
        "\n",
        "\n",
        "#step5: finally print the result\n",
        "print(f\"Maximum frequency word: {max_freq_word}\") "
      ]
    },
    {
      "cell_type": "code",
      "execution_count": null,
      "metadata": {
        "id": "fGQq-suh1sFt"
      },
      "outputs": [],
      "source": [
        "from sklearn.feature_extraction.text import CountVectorizer\n",
        "\n",
        "v=CountVectorizer(ngram_range=(1,3))\n",
        "v.fit([\"Thor Hthodawala is looking for a job\"])\n",
        "v.vocabulary_\n"
      ]
    },
    {
      "cell_type": "code",
      "execution_count": null,
      "metadata": {
        "id": "T_rmhX5S2fmD"
      },
      "outputs": [],
      "source": [
        "corpus = [\n",
        "    \"Thor ate pizza\",\n",
        "    \"Loki is tall\",\n",
        "    \"Loki is eating pizza\"\n",
        "]"
      ]
    },
    {
      "cell_type": "code",
      "execution_count": null,
      "metadata": {
        "id": "uPlB2okC5Kle"
      },
      "outputs": [],
      "source": [
        "import spacy\n",
        "\n",
        "# load english language model and create nlp object from it\n",
        "nlp = spacy.load(\"en_core_web_sm\") \n",
        "\n",
        "def preprocess(text):\n",
        "    # remove stop words and lemmatize the text\n",
        "    doc = nlp(text)\n",
        "    filtered_tokens = []\n",
        "    for token in doc:\n",
        "        if token.is_stop or token.is_punct:\n",
        "            continue\n",
        "        filtered_tokens.append(token.lemma_)\n",
        "    \n",
        "    return \" \".join(filtered_tokens) "
      ]
    },
    {
      "cell_type": "code",
      "execution_count": null,
      "metadata": {
        "id": "NJgq7DNW5MM6"
      },
      "outputs": [],
      "source": [
        "corpus_processed = [\n",
        "    preprocess(text) for text in corpus\n",
        "]\n",
        "corpus_processed"
      ]
    },
    {
      "cell_type": "code",
      "execution_count": null,
      "metadata": {
        "id": "UnOI84Rp5Nek"
      },
      "outputs": [],
      "source": [
        "v = CountVectorizer(ngram_range=(1,2))\n",
        "v.fit(corpus_processed)\n",
        "v.vocabulary_"
      ]
    },
    {
      "cell_type": "code",
      "execution_count": null,
      "metadata": {
        "id": "MbWBqruV5Orz"
      },
      "outputs": [],
      "source": [
        "v.transform([\"Thor eat pizza\"]).toarray()"
      ]
    },
    {
      "cell_type": "code",
      "execution_count": null,
      "metadata": {
        "id": "oNEWB7Hh5P76"
      },
      "outputs": [],
      "source": [
        "v.transform([\"Hulk eat pizza\"]).toarray()"
      ]
    },
    {
      "cell_type": "markdown",
      "metadata": {
        "id": "yXHy6e5dEIcl"
      },
      "source": [
        "###Notes\n",
        "\n",
        "without preprocessing of dataset bag of words algorithm perform better results than bi_gram, tri_gram or n_gram.\n",
        "\n",
        "after preprocessing(applying stemming and lemmatization) n_gram algorithm perform better results<br>\n",
        "\n",
        "imbalance dataset handling\n",
        "1. Under sampling\n",
        "2. Over sampling\n",
        "3. SMOTE\n",
        "4. Ensemble\n"
      ]
    },
    {
      "cell_type": "markdown",
      "metadata": {
        "id": "OnfzhrTidhOx"
      },
      "source": [
        "https://github.com/codebasics/nlp-tutorials/blob/main/11_bag_of_n_grams/bag_of_n_grams_exercise.ipynb"
      ]
    },
    {
      "cell_type": "code",
      "execution_count": null,
      "metadata": {
        "id": "wYcVKSOKddqv"
      },
      "outputs": [],
      "source": [
        "import pandas as pd"
      ]
    },
    {
      "cell_type": "code",
      "execution_count": null,
      "metadata": {
        "id": "DIsQ_FtaTQrZ"
      },
      "outputs": [],
      "source": [
        "import nltk\n",
        "nltk.download('punkt')"
      ]
    },
    {
      "cell_type": "code",
      "execution_count": null,
      "metadata": {
        "id": "15jf_WkIXFOs"
      },
      "outputs": [],
      "source": [
        "import tensorflow as tf\n",
        "import pandas as pd\n",
        "import numpy as np\n",
        "import matplotlib.pyplot as plt\n",
        "import seaborn as sns\n",
        "from wordcloud import WordCloud, STOPWORDS\n",
        "import nltk\n",
        "import re\n",
        "from nltk.stem import PorterStemmer, WordNetLemmatizer\n",
        "from nltk.corpus import stopwords\n",
        "from nltk.tokenize import word_tokenize, sent_tokenize\n",
        "import gensim\n",
        "from gensim.utils import simple_preprocess\n",
        "from gensim.parsing.preprocessing import STOPWORDS\n",
        "from tensorflow.keras.preprocessing.text import one_hot, Tokenizer\n",
        "from tensorflow.keras.preprocessing.sequence import pad_sequences\n",
        "from tensorflow.keras.models import Sequential\n",
        "from tensorflow.keras.layers import Dense, Flatten, Embedding, Input, LSTM, Conv1D, MaxPool1D, Bidirectional\n",
        "from tensorflow.keras.models import Model"
      ]
    },
    {
      "cell_type": "code",
      "execution_count": null,
      "metadata": {
        "id": "20Ws3vMSXJxh"
      },
      "outputs": [],
      "source": [
        "# Loading The Data\n",
        "df_true = pd.read_csv(\"/content/Fake.csv\")\n",
        "df_fake = pd.read_csv(\"/content/True.csv\")"
      ]
    },
    {
      "cell_type": "code",
      "execution_count": null,
      "metadata": {
        "id": "0iNpzIxsYBI7"
      },
      "outputs": [],
      "source": [
        "df_true.head()"
      ]
    },
    {
      "cell_type": "code",
      "execution_count": null,
      "metadata": {
        "id": "O9E44eD0YSo7"
      },
      "outputs": [],
      "source": [
        "df_fake.head()"
      ]
    },
    {
      "cell_type": "code",
      "execution_count": null,
      "metadata": {
        "id": "N4ulZeGoYXM6"
      },
      "outputs": [],
      "source": [
        "df_true['isfake'] = 1\n",
        "df_true.head()"
      ]
    },
    {
      "cell_type": "code",
      "execution_count": null,
      "metadata": {
        "id": "Ivmb_W2WYZAw"
      },
      "outputs": [],
      "source": [
        "df_fake['isfake'] = 0\n",
        "df_fake.head()"
      ]
    },
    {
      "cell_type": "code",
      "execution_count": null,
      "metadata": {
        "id": "iIS0ke1HYcYK"
      },
      "outputs": [],
      "source": [
        "df = pd.concat([df_true, df_fake]).reset_index(drop = True)\n",
        "df"
      ]
    },
    {
      "cell_type": "code",
      "execution_count": null,
      "metadata": {
        "id": "8zN8LHIoYem6"
      },
      "outputs": [],
      "source": [
        "#Checking if dataset is class-imbalanced or not\n",
        "df['isfake'].value_counts"
      ]
    },
    {
      "cell_type": "code",
      "execution_count": null,
      "metadata": {
        "id": "nOZuazx1YgYb"
      },
      "outputs": [],
      "source": [
        "df.drop(columns = ['date','subject','title'], inplace = True)\n"
      ]
    },
    {
      "cell_type": "code",
      "execution_count": null,
      "metadata": {
        "id": "bRxYiU_FZg4D"
      },
      "outputs": [],
      "source": [
        "df['label']=df['isfake']"
      ]
    },
    {
      "cell_type": "code",
      "execution_count": null,
      "metadata": {
        "id": "u0Oc5tazZqYx"
      },
      "outputs": [],
      "source": [
        "df"
      ]
    },
    {
      "cell_type": "code",
      "execution_count": null,
      "metadata": {
        "id": "--9OPSBlZvqJ"
      },
      "outputs": [],
      "source": [
        "df.drop(columns = ['isfake'], inplace = True)"
      ]
    },
    {
      "cell_type": "code",
      "execution_count": null,
      "metadata": {
        "id": "brhMegtBZ1OJ"
      },
      "outputs": [],
      "source": [
        "df['label'].value_counts()"
      ]
    },
    {
      "cell_type": "code",
      "execution_count": null,
      "metadata": {
        "id": "65aIFGcIaAx6"
      },
      "outputs": [],
      "source": [
        "df"
      ]
    },
    {
      "cell_type": "code",
      "execution_count": null,
      "metadata": {
        "id": "GZ-hzTk6aGAK"
      },
      "outputs": [],
      "source": [
        "from sklearn.model_selection import train_test_split\n",
        "\n",
        "\n",
        "#Do the 'train-test' splitting with test size of 20% with random state of 2022 and stratify sampling too\n",
        "X_train, X_test, y_train, y_test = train_test_split(\n",
        "    df.text, \n",
        "    df.label, \n",
        "    test_size=0.2, # 20% samples will go to test dataset\n",
        "    random_state=2022,\n",
        "    stratify=df.label\n",
        ")"
      ]
    },
    {
      "cell_type": "code",
      "execution_count": null,
      "metadata": {
        "id": "u0RngwaLaMzq"
      },
      "outputs": [],
      "source": [
        "#print the shapes of X_train and X_test\n",
        "\n",
        "print(\"Shape of X_train: \", X_train.shape)\n",
        "print(\"Shape of X_test: \", X_test.shape)"
      ]
    },
    {
      "cell_type": "code",
      "execution_count": null,
      "metadata": {
        "id": "vYnvtXu0aQ2j"
      },
      "outputs": [],
      "source": [
        "from sklearn.feature_extraction.text import CountVectorizer\n",
        "from sklearn.pipeline import Pipeline\n",
        "from sklearn.metrics import classification_report\n",
        "from  sklearn.neighbors import KNeighborsClassifier\n",
        "\n",
        "#1. create a pipeline object\n",
        "clf = Pipeline([\n",
        "    ('vectorizer_trigrams', CountVectorizer(ngram_range = (1, 3))),                   #using the ngram_range parameter \n",
        "     ('KNN', (KNeighborsClassifier(n_neighbors=10, metric = 'euclidean')))           #using the KNN classifier with 10 neighbors and euclidean distance      \n",
        "])\n",
        "\n",
        "#2. fit with X_train and y_train\n",
        "clf.fit(X_train, y_train)\n",
        "\n",
        "\n",
        "#3. get the predictions for X_test and store it in y_pred\n",
        "y_pred = clf.predict(X_test)\n",
        "\n",
        "\n",
        "#4. print the classfication report\n",
        "print(classification_report(y_test, y_pred))"
      ]
    },
    {
      "cell_type": "code",
      "execution_count": null,
      "metadata": {
        "id": "-8Ajn6wvbbCn"
      },
      "outputs": [],
      "source": [
        "#1. create a pipeline object\n",
        "clf = Pipeline([\n",
        "    ('vectorizer_trigrams', CountVectorizer(ngram_range = (1, 3))),          #using the ngram_range parameter \n",
        "     ('KNN', (KNeighborsClassifier(n_neighbors = 10, metric = 'cosine')))    #using the KNN classifier with 10 neighbors and cosine distance       \n",
        "])\n",
        "\n",
        "#2. fit with X_train and y_train\n",
        "clf.fit(X_train, y_train)\n",
        "\n",
        "\n",
        "#3. get the predictions for X_test and store it in y_pred\n",
        "y_pred = clf.predict(X_test)\n",
        "\n",
        "\n",
        "#4. print the classfication report\n",
        "print(classification_report(y_test, y_pred))\n"
      ]
    },
    {
      "cell_type": "code",
      "execution_count": null,
      "metadata": {
        "id": "q9J2ZtoAbhc6"
      },
      "outputs": [],
      "source": [
        "from sklearn.ensemble import RandomForestClassifier\n",
        "\n",
        "\n",
        "#1. create a pipeline object\n",
        "clf = Pipeline([\n",
        "    ('vectorizer_n_grams', CountVectorizer(ngram_range = (3, 3))),                       #using the ngram_range parameter \n",
        "    ('random_forest', (RandomForestClassifier()))         \n",
        "])\n",
        "\n",
        "#2. fit with X_train and y_train\n",
        "clf.fit(X_train, y_train)\n",
        "\n",
        "\n",
        "#3. get the predictions for X_test and store it in y_pred\n",
        "y_pred = clf.predict(X_test)\n",
        "\n",
        "\n",
        "#4. print the classfication report\n",
        "print(classification_report(y_test, y_pred))\n"
      ]
    },
    {
      "cell_type": "code",
      "execution_count": null,
      "metadata": {
        "id": "oXoaEyBWblwK"
      },
      "outputs": [],
      "source": [
        "from sklearn.naive_bayes import MultinomialNB\n",
        "\n",
        "\n",
        "#1. create a pipeline object\n",
        "clf = Pipeline([\n",
        "    ('vectorizer_trigrams', CountVectorizer(ngram_range = (1, 2))),        #using the ngram_range parameter \n",
        "     ('Multi NB', MultinomialNB(alpha = 0.75))         \n",
        "])\n",
        "\n",
        "#2. fit with X_train and y_train\n",
        "clf.fit(X_train, y_train)\n",
        "\n",
        "\n",
        "#3. get the predictions for X_test and store it in y_pred\n",
        "y_pred = clf.predict(X_test)\n",
        "\n",
        "\n",
        "#4. print the classfication report\n",
        "print(classification_report(y_test, y_pred))"
      ]
    },
    {
      "cell_type": "code",
      "execution_count": null,
      "metadata": {
        "id": "9k8MGazwbp0j"
      },
      "outputs": [],
      "source": [
        "#use this utility function to get the preprocessed text data\n",
        "\n",
        "import spacy\n",
        "\n",
        "# load english language model and create nlp object from it\n",
        "nlp = spacy.load(\"en_core_web_sm\") \n",
        "\n",
        "def preprocess(text):\n",
        "    # remove stop words and lemmatize the text\n",
        "    doc = nlp(text)\n",
        "    filtered_tokens = []\n",
        "    for token in doc:\n",
        "        if token.is_stop or token.is_punct:\n",
        "            continue\n",
        "        filtered_tokens.append(token.lemma_)\n",
        "    \n",
        "    return \" \".join(filtered_tokens) "
      ]
    },
    {
      "cell_type": "code",
      "execution_count": null,
      "metadata": {
        "id": "IhW-be6Kbr1s"
      },
      "outputs": [],
      "source": [
        "# create a new column \"preprocessed_txt\" and use the utility function above to get the clean data\n",
        "# this will take some time, please be patient\n",
        "df['preprocessed_txt'] = df['Text'].apply(preprocess) "
      ]
    },
    {
      "cell_type": "code",
      "execution_count": null,
      "metadata": {
        "id": "TKXWaOWpcJzq"
      },
      "outputs": [],
      "source": [
        "df.head()"
      ]
    },
    {
      "cell_type": "code",
      "execution_count": null,
      "metadata": {
        "id": "__J7tQ3BcNay"
      },
      "outputs": [],
      "source": [
        "#Do the 'train-test' splitting with test size of 20% with random state of 2022 and stratify sampling too\n",
        "#Note: Make sure to use only the \"preprocessed_txt\" column for splitting\n",
        "\n",
        "X_train, X_test, y_train, y_test = train_test_split(\n",
        "    df.preprocessed_txt, \n",
        "    df.label_num,\n",
        "    test_size=0.2, # 20% samples will go to test dataset\n",
        "    random_state=2022,\n",
        "    stratify=df.label_num\n",
        ")"
      ]
    },
    {
      "cell_type": "code",
      "execution_count": null,
      "metadata": {
        "id": "9dJDMj0fcPYS"
      },
      "outputs": [],
      "source": [
        "#1. create a pipeline object\n",
        "clf = Pipeline([\n",
        "    ('vectorizer_n_grams', CountVectorizer(ngram_range = (3, 3))),                       #using the ngram_range parameter \n",
        "    ('random_forest', (RandomForestClassifier()))         \n",
        "])\n",
        "\n",
        "#2. fit with X_train and y_train\n",
        "clf.fit(X_train, y_train)\n",
        "\n",
        "\n",
        "#3. get the predictions for X_test and store it in y_pred\n",
        "y_pred = clf.predict(X_test)\n",
        "\n",
        "\n",
        "#4. print the classfication report\n",
        "print(classification_report(y_test, y_pred))"
      ]
    },
    {
      "cell_type": "code",
      "execution_count": null,
      "metadata": {
        "id": "Rp5Kun-5cTCR"
      },
      "outputs": [],
      "source": [
        "#1. create a pipeline object\n",
        "clf = Pipeline([\n",
        "    ('vectorizer_n_grams', CountVectorizer(ngram_range = (1, 3))),                       #using the ngram_range parameter \n",
        "    ('random_forest', (RandomForestClassifier()))         \n",
        "])\n",
        "\n",
        "#2. fit with X_train and y_train\n",
        "clf.fit(X_train, y_train)\n",
        "\n",
        "\n",
        "#3. get the predictions for X_test and store it in y_pred\n",
        "y_pred = clf.predict(X_test)\n",
        "\n",
        "\n",
        "#4. print the classfication report\n",
        "print(classification_report(y_test, y_pred))"
      ]
    },
    {
      "cell_type": "code",
      "execution_count": null,
      "metadata": {
        "id": "naShfc7vcWb6"
      },
      "outputs": [],
      "source": [
        "#finally print the confusion matrix for the best model\n",
        "\n",
        "from sklearn.metrics import confusion_matrix\n",
        "cm = confusion_matrix(y_test, y_pred)\n",
        "cm\n",
        "\n",
        "\n",
        "from matplotlib import pyplot as plt\n",
        "import seaborn as sn\n",
        "plt.figure(figsize = (10,7))\n",
        "sn.heatmap(cm, annot=True, fmt='d')\n",
        "plt.xlabel('Prediction')\n",
        "plt.ylabel('Truth')"
      ]
    },
    {
      "cell_type": "code",
      "source": [
        "import spacy\n",
        "\n",
        "# load english language model and create nlp object from it\n",
        "nlp = spacy.load(\"en_core_web_lg\") "
      ],
      "metadata": {
        "id": "ZdPFyhRt7Q-5"
      },
      "execution_count": null,
      "outputs": []
    },
    {
      "cell_type": "code",
      "source": [
        "!pip install gensim"
      ],
      "metadata": {
        "id": "N05DiAU87cwC",
        "colab": {
          "base_uri": "https://localhost:8080/"
        },
        "outputId": "b1528163-8a18-4e7c-a81e-60481c6f99d4"
      },
      "execution_count": null,
      "outputs": [
        {
          "output_type": "stream",
          "name": "stdout",
          "text": [
            "Looking in indexes: https://pypi.org/simple, https://us-python.pkg.dev/colab-wheels/public/simple/\n",
            "Requirement already satisfied: gensim in /usr/local/lib/python3.9/dist-packages (4.3.1)\n",
            "Requirement already satisfied: scipy>=1.7.0 in /usr/local/lib/python3.9/dist-packages (from gensim) (1.10.1)\n",
            "Requirement already satisfied: numpy>=1.18.5 in /usr/local/lib/python3.9/dist-packages (from gensim) (1.22.4)\n",
            "Requirement already satisfied: smart-open>=1.8.1 in /usr/local/lib/python3.9/dist-packages (from gensim) (6.3.0)\n"
          ]
        }
      ]
    },
    {
      "cell_type": "code",
      "source": [
        "import gensim.downloader as api\n",
        "wv=api.load(\"word2vec-google-news-300\")"
      ],
      "metadata": {
        "id": "Dy1FM0dFJcrO"
      },
      "execution_count": null,
      "outputs": []
    },
    {
      "cell_type": "code",
      "source": [
        "wv=api.load(\"word2vec-google-news-300\")"
      ],
      "metadata": {
        "id": "TI6j3L03L1Cx"
      },
      "execution_count": null,
      "outputs": []
    },
    {
      "cell_type": "code",
      "source": [
        "!pip install python-Levenshtein"
      ],
      "metadata": {
        "colab": {
          "base_uri": "https://localhost:8080/"
        },
        "id": "_iVdatl7KO7Y",
        "outputId": "ff372e00-6f27-45f8-85c2-36535f7dfb9d"
      },
      "execution_count": null,
      "outputs": [
        {
          "output_type": "stream",
          "name": "stdout",
          "text": [
            "Looking in indexes: https://pypi.org/simple, https://us-python.pkg.dev/colab-wheels/public/simple/\n",
            "Collecting python-Levenshtein\n",
            "  Downloading python_Levenshtein-0.20.9-py3-none-any.whl (9.4 kB)\n",
            "Collecting Levenshtein==0.20.9\n",
            "  Downloading Levenshtein-0.20.9-cp39-cp39-manylinux_2_17_x86_64.manylinux2014_x86_64.whl (175 kB)\n",
            "\u001b[2K     \u001b[90m━━━━━━━━━━━━━━━━━━━━━━━━━━━━━━━━━━━━━━━\u001b[0m \u001b[32m175.5/175.5 KB\u001b[0m \u001b[31m4.6 MB/s\u001b[0m eta \u001b[36m0:00:00\u001b[0m\n",
            "\u001b[?25hCollecting rapidfuzz<3.0.0,>=2.3.0\n",
            "  Downloading rapidfuzz-2.15.0-cp39-cp39-manylinux_2_17_x86_64.manylinux2014_x86_64.whl (2.2 MB)\n",
            "\u001b[2K     \u001b[90m━━━━━━━━━━━━━━━━━━━━━━━━━━━━━━━━━━━━━━━━\u001b[0m \u001b[32m2.2/2.2 MB\u001b[0m \u001b[31m22.6 MB/s\u001b[0m eta \u001b[36m0:00:00\u001b[0m\n",
            "\u001b[?25hInstalling collected packages: rapidfuzz, Levenshtein, python-Levenshtein\n",
            "Successfully installed Levenshtein-0.20.9 python-Levenshtein-0.20.9 rapidfuzz-2.15.0\n"
          ]
        }
      ]
    },
    {
      "cell_type": "code",
      "source": [
        "import pandas as pd\n",
        "\n",
        "df = pd.read_csv(\"/content/Cleaned_Indian_Food_Dataset.csv\")\n",
        "print(df.shape)\n",
        "df.head(3)"
      ],
      "metadata": {
        "id": "NNIA8u-dWy-N",
        "colab": {
          "base_uri": "https://localhost:8080/",
          "height": 364
        },
        "outputId": "58985c27-2659-4684-db7c-3abdc08a64b9"
      },
      "execution_count": null,
      "outputs": [
        {
          "output_type": "stream",
          "name": "stdout",
          "text": [
            "(5938, 9)\n"
          ]
        },
        {
          "output_type": "execute_result",
          "data": {
            "text/plain": [
              "                                TranslatedRecipeName  \\\n",
              "0                               Masala Karela Recipe   \n",
              "1                         Spicy Tomato Rice (Recipe)   \n",
              "2  Ragi Semiya Upma Recipe - Ragi Millet Vermicel...   \n",
              "\n",
              "                               TranslatedIngredients  TotalTimeInMins  \\\n",
              "0  1 tablespoon Red Chilli powder,3 tablespoon Gr...               45   \n",
              "1   2 teaspoon cashew - or peanuts, 1/2 Teaspoon ...               15   \n",
              "2  1 Onion - sliced,1 teaspoon White Urad Dal (Sp...               50   \n",
              "\n",
              "                Cuisine                             TranslatedInstructions  \\\n",
              "0                Indian  To begin making the Masala Karela Recipe,de-se...   \n",
              "1  South Indian Recipes  To make tomato puliogere, first cut the tomato...   \n",
              "2  South Indian Recipes  To begin making the Ragi Vermicelli Recipe, fi...   \n",
              "\n",
              "                                                 URL  \\\n",
              "0  https://www.archanaskitchen.com/masala-karela-...   \n",
              "1  https://www.archanaskitchen.com/spicy-tomato-r...   \n",
              "2  https://www.archanaskitchen.com/ragi-vermicell...   \n",
              "\n",
              "                                 Cleaned-Ingredients  \\\n",
              "0  salt,amchur (dry mango powder),karela (bitter ...   \n",
              "1  tomato,salt,chickpea lentils,green chilli,rice...   \n",
              "2  salt,rice vermicelli noodles (thin),asafoetida...   \n",
              "\n",
              "                                           image-url  Ingredient-count  \n",
              "0  https://www.archanaskitchen.com/images/archana...                10  \n",
              "1  https://www.archanaskitchen.com/images/archana...                12  \n",
              "2  https://www.archanaskitchen.com/images/archana...                12  "
            ],
            "text/html": [
              "\n",
              "  <div id=\"df-8a063073-bbc6-40b4-b0dc-16e634e5221b\">\n",
              "    <div class=\"colab-df-container\">\n",
              "      <div>\n",
              "<style scoped>\n",
              "    .dataframe tbody tr th:only-of-type {\n",
              "        vertical-align: middle;\n",
              "    }\n",
              "\n",
              "    .dataframe tbody tr th {\n",
              "        vertical-align: top;\n",
              "    }\n",
              "\n",
              "    .dataframe thead th {\n",
              "        text-align: right;\n",
              "    }\n",
              "</style>\n",
              "<table border=\"1\" class=\"dataframe\">\n",
              "  <thead>\n",
              "    <tr style=\"text-align: right;\">\n",
              "      <th></th>\n",
              "      <th>TranslatedRecipeName</th>\n",
              "      <th>TranslatedIngredients</th>\n",
              "      <th>TotalTimeInMins</th>\n",
              "      <th>Cuisine</th>\n",
              "      <th>TranslatedInstructions</th>\n",
              "      <th>URL</th>\n",
              "      <th>Cleaned-Ingredients</th>\n",
              "      <th>image-url</th>\n",
              "      <th>Ingredient-count</th>\n",
              "    </tr>\n",
              "  </thead>\n",
              "  <tbody>\n",
              "    <tr>\n",
              "      <th>0</th>\n",
              "      <td>Masala Karela Recipe</td>\n",
              "      <td>1 tablespoon Red Chilli powder,3 tablespoon Gr...</td>\n",
              "      <td>45</td>\n",
              "      <td>Indian</td>\n",
              "      <td>To begin making the Masala Karela Recipe,de-se...</td>\n",
              "      <td>https://www.archanaskitchen.com/masala-karela-...</td>\n",
              "      <td>salt,amchur (dry mango powder),karela (bitter ...</td>\n",
              "      <td>https://www.archanaskitchen.com/images/archana...</td>\n",
              "      <td>10</td>\n",
              "    </tr>\n",
              "    <tr>\n",
              "      <th>1</th>\n",
              "      <td>Spicy Tomato Rice (Recipe)</td>\n",
              "      <td>2 teaspoon cashew - or peanuts, 1/2 Teaspoon ...</td>\n",
              "      <td>15</td>\n",
              "      <td>South Indian Recipes</td>\n",
              "      <td>To make tomato puliogere, first cut the tomato...</td>\n",
              "      <td>https://www.archanaskitchen.com/spicy-tomato-r...</td>\n",
              "      <td>tomato,salt,chickpea lentils,green chilli,rice...</td>\n",
              "      <td>https://www.archanaskitchen.com/images/archana...</td>\n",
              "      <td>12</td>\n",
              "    </tr>\n",
              "    <tr>\n",
              "      <th>2</th>\n",
              "      <td>Ragi Semiya Upma Recipe - Ragi Millet Vermicel...</td>\n",
              "      <td>1 Onion - sliced,1 teaspoon White Urad Dal (Sp...</td>\n",
              "      <td>50</td>\n",
              "      <td>South Indian Recipes</td>\n",
              "      <td>To begin making the Ragi Vermicelli Recipe, fi...</td>\n",
              "      <td>https://www.archanaskitchen.com/ragi-vermicell...</td>\n",
              "      <td>salt,rice vermicelli noodles (thin),asafoetida...</td>\n",
              "      <td>https://www.archanaskitchen.com/images/archana...</td>\n",
              "      <td>12</td>\n",
              "    </tr>\n",
              "  </tbody>\n",
              "</table>\n",
              "</div>\n",
              "      <button class=\"colab-df-convert\" onclick=\"convertToInteractive('df-8a063073-bbc6-40b4-b0dc-16e634e5221b')\"\n",
              "              title=\"Convert this dataframe to an interactive table.\"\n",
              "              style=\"display:none;\">\n",
              "        \n",
              "  <svg xmlns=\"http://www.w3.org/2000/svg\" height=\"24px\"viewBox=\"0 0 24 24\"\n",
              "       width=\"24px\">\n",
              "    <path d=\"M0 0h24v24H0V0z\" fill=\"none\"/>\n",
              "    <path d=\"M18.56 5.44l.94 2.06.94-2.06 2.06-.94-2.06-.94-.94-2.06-.94 2.06-2.06.94zm-11 1L8.5 8.5l.94-2.06 2.06-.94-2.06-.94L8.5 2.5l-.94 2.06-2.06.94zm10 10l.94 2.06.94-2.06 2.06-.94-2.06-.94-.94-2.06-.94 2.06-2.06.94z\"/><path d=\"M17.41 7.96l-1.37-1.37c-.4-.4-.92-.59-1.43-.59-.52 0-1.04.2-1.43.59L10.3 9.45l-7.72 7.72c-.78.78-.78 2.05 0 2.83L4 21.41c.39.39.9.59 1.41.59.51 0 1.02-.2 1.41-.59l7.78-7.78 2.81-2.81c.8-.78.8-2.07 0-2.86zM5.41 20L4 18.59l7.72-7.72 1.47 1.35L5.41 20z\"/>\n",
              "  </svg>\n",
              "      </button>\n",
              "      \n",
              "  <style>\n",
              "    .colab-df-container {\n",
              "      display:flex;\n",
              "      flex-wrap:wrap;\n",
              "      gap: 12px;\n",
              "    }\n",
              "\n",
              "    .colab-df-convert {\n",
              "      background-color: #E8F0FE;\n",
              "      border: none;\n",
              "      border-radius: 50%;\n",
              "      cursor: pointer;\n",
              "      display: none;\n",
              "      fill: #1967D2;\n",
              "      height: 32px;\n",
              "      padding: 0 0 0 0;\n",
              "      width: 32px;\n",
              "    }\n",
              "\n",
              "    .colab-df-convert:hover {\n",
              "      background-color: #E2EBFA;\n",
              "      box-shadow: 0px 1px 2px rgba(60, 64, 67, 0.3), 0px 1px 3px 1px rgba(60, 64, 67, 0.15);\n",
              "      fill: #174EA6;\n",
              "    }\n",
              "\n",
              "    [theme=dark] .colab-df-convert {\n",
              "      background-color: #3B4455;\n",
              "      fill: #D2E3FC;\n",
              "    }\n",
              "\n",
              "    [theme=dark] .colab-df-convert:hover {\n",
              "      background-color: #434B5C;\n",
              "      box-shadow: 0px 1px 3px 1px rgba(0, 0, 0, 0.15);\n",
              "      filter: drop-shadow(0px 1px 2px rgba(0, 0, 0, 0.3));\n",
              "      fill: #FFFFFF;\n",
              "    }\n",
              "  </style>\n",
              "\n",
              "      <script>\n",
              "        const buttonEl =\n",
              "          document.querySelector('#df-8a063073-bbc6-40b4-b0dc-16e634e5221b button.colab-df-convert');\n",
              "        buttonEl.style.display =\n",
              "          google.colab.kernel.accessAllowed ? 'block' : 'none';\n",
              "\n",
              "        async function convertToInteractive(key) {\n",
              "          const element = document.querySelector('#df-8a063073-bbc6-40b4-b0dc-16e634e5221b');\n",
              "          const dataTable =\n",
              "            await google.colab.kernel.invokeFunction('convertToInteractive',\n",
              "                                                     [key], {});\n",
              "          if (!dataTable) return;\n",
              "\n",
              "          const docLinkHtml = 'Like what you see? Visit the ' +\n",
              "            '<a target=\"_blank\" href=https://colab.research.google.com/notebooks/data_table.ipynb>data table notebook</a>'\n",
              "            + ' to learn more about interactive tables.';\n",
              "          element.innerHTML = '';\n",
              "          dataTable['output_type'] = 'display_data';\n",
              "          await google.colab.output.renderOutput(dataTable, element);\n",
              "          const docLink = document.createElement('div');\n",
              "          docLink.innerHTML = docLinkHtml;\n",
              "          element.appendChild(docLink);\n",
              "        }\n",
              "      </script>\n",
              "    </div>\n",
              "  </div>\n",
              "  "
            ]
          },
          "metadata": {},
          "execution_count": 3
        }
      ]
    },
    {
      "cell_type": "code",
      "source": [
        "df.TranslatedInstructions[0]"
      ],
      "metadata": {
        "colab": {
          "base_uri": "https://localhost:8080/",
          "height": 182
        },
        "id": "P4WqiRAukn36",
        "outputId": "54860d5b-fd44-4131-cc10-420906186e20"
      },
      "execution_count": null,
      "outputs": [
        {
          "output_type": "execute_result",
          "data": {
            "text/plain": [
              "'To begin making the Masala Karela Recipe,de-seed the karela and slice.\\nDo not remove the skin as the skin has all the nutrients.\\nAdd the karela to the pressure cooker with 3 tablespoon of water, salt and turmeric powder and pressure cook for three whistles.\\nRelease the pressure immediately and open the lids.\\nKeep aside.Heat oil in a heavy bottomed pan or a kadhai.\\nAdd cumin seeds and let it sizzle.Once the cumin seeds have sizzled, add onions and saute them till it turns golden brown in color.Add the karela, red chilli powder, amchur powder, coriander powder and besan.\\nStir to combine the masalas into the karela.Drizzle a little extra oil on the top and mix again.\\nCover the pan and simmer Masala Karela stirring occasionally until everything comes together well.\\nTurn off the heat.Transfer Masala Karela into a serving bowl and serve.Serve Masala Karela along with Panchmel Dal and Phulka for a weekday meal with your family.\\n'"
            ],
            "application/vnd.google.colaboratory.intrinsic+json": {
              "type": "string"
            }
          },
          "metadata": {},
          "execution_count": 4
        }
      ]
    },
    {
      "cell_type": "code",
      "source": [
        "import re\n",
        "\n",
        "text = 'To begin making the Masala Karela Recipe,de-seed the karela and slice.\\nDo not remove the skin as the skin has all the nutrients.\\nAdd the karela to the pressure cooker with 3 tablespoon of water, salt and turmeric powder and pressure cook for three whistles.\\nRelease the pressure immediately and open the lids.\\nKeep aside.Heat oil in a heavy bottomed pan or a kadhai.\\nAdd cumin seeds and let it sizzle.Once the cumin seeds have sizzled, add onions and saute them till it turns golden brown in color.Add the karela, red chilli powder, amchur powder, coriander powder and besan.\\nStir to combine the masalas into the karela.Drizzle a little extra oil on the top and mix again.\\nCover the pan and simmer Masala Karela stirring occasionally until everything comes together well.\\nTurn off the heat.Transfer Masala Karela into a serving bowl and serve.Serve Masala Karela along with Panchmel Dal and Phulka for a weekday meal with your family.\\n'\n",
        "\n",
        "re.sub(r\"[^\\w\\s]\", \" \", text, flags=re.MULTILINE)"
      ],
      "metadata": {
        "colab": {
          "base_uri": "https://localhost:8080/",
          "height": 182
        },
        "id": "fC4ufTezkn-o",
        "outputId": "3f5ea0ac-729f-4be5-b71b-9610e6e8a961"
      },
      "execution_count": null,
      "outputs": [
        {
          "output_type": "execute_result",
          "data": {
            "text/plain": [
              "'To begin making the Masala Karela Recipe de seed the karela and slice \\nDo not remove the skin as the skin has all the nutrients \\nAdd the karela to the pressure cooker with 3 tablespoon of water  salt and turmeric powder and pressure cook for three whistles \\nRelease the pressure immediately and open the lids \\nKeep aside Heat oil in a heavy bottomed pan or a kadhai \\nAdd cumin seeds and let it sizzle Once the cumin seeds have sizzled  add onions and saute them till it turns golden brown in color Add the karela  red chilli powder  amchur powder  coriander powder and besan \\nStir to combine the masalas into the karela Drizzle a little extra oil on the top and mix again \\nCover the pan and simmer Masala Karela stirring occasionally until everything comes together well \\nTurn off the heat Transfer Masala Karela into a serving bowl and serve Serve Masala Karela along with Panchmel Dal and Phulka for a weekday meal with your family \\n'"
            ],
            "application/vnd.google.colaboratory.intrinsic+json": {
              "type": "string"
            }
          },
          "metadata": {},
          "execution_count": 9
        }
      ]
    },
    {
      "cell_type": "code",
      "source": [
        "def preprocess(text):\n",
        "    text = re.sub(r'[^\\w\\s\\']',' ', text)\n",
        "    text = re.sub(r'[ \\n]+', ' ', text)\n",
        "    return text.strip().lower() "
      ],
      "metadata": {
        "id": "DLtt__f6k1sn"
      },
      "execution_count": null,
      "outputs": []
    },
    {
      "cell_type": "code",
      "source": [
        "text = 'To begin making the Masala Karela Recipe,de-seed the karela and slice.\\nDo not remove the skin as the skin has all the nutrients.\\nAdd the karela to the pressure cooker with 3 tablespoon of water, salt and turmeric powder and pressure cook for three whistles.\\nRelease the pressure immediately and open the lids.\\nKeep aside.Heat oil in a heavy bottomed pan or a kadhai.\\nAdd cumin seeds and let it sizzle.Once the cumin seeds have sizzled, add onions and saute them till it turns golden brown in color.Add the karela, red chilli powder, amchur powder, coriander powder and besan.\\nStir to combine the masalas into the karela.Drizzle a little extra oil on the top and mix again.\\nCover the pan and simmer Masala Karela stirring occasionally until everything comes together well.\\nTurn off the heat.Transfer Masala Karela into a serving bowl and serve.Serve Masala Karela along with Panchmel Dal and Phulka for a weekday meal with your family.\\n'\n",
        "\n",
        "preprocess(text)"
      ],
      "metadata": {
        "colab": {
          "base_uri": "https://localhost:8080/",
          "height": 182
        },
        "id": "wzvDolX6k3xC",
        "outputId": "1439ed2a-5a47-42f9-88e6-25c8b2d29af3"
      },
      "execution_count": null,
      "outputs": [
        {
          "output_type": "execute_result",
          "data": {
            "text/plain": [
              "'to begin making the masala karela recipe de seed the karela and slice do not remove the skin as the skin has all the nutrients add the karela to the pressure cooker with 3 tablespoon of water salt and turmeric powder and pressure cook for three whistles release the pressure immediately and open the lids keep aside heat oil in a heavy bottomed pan or a kadhai add cumin seeds and let it sizzle once the cumin seeds have sizzled add onions and saute them till it turns golden brown in color add the karela red chilli powder amchur powder coriander powder and besan stir to combine the masalas into the karela drizzle a little extra oil on the top and mix again cover the pan and simmer masala karela stirring occasionally until everything comes together well turn off the heat transfer masala karela into a serving bowl and serve serve masala karela along with panchmel dal and phulka for a weekday meal with your family'"
            ],
            "application/vnd.google.colaboratory.intrinsic+json": {
              "type": "string"
            }
          },
          "metadata": {},
          "execution_count": 11
        }
      ]
    },
    {
      "cell_type": "code",
      "source": [
        "df.TranslatedInstructions = df.TranslatedInstructions.map(preprocess)"
      ],
      "metadata": {
        "id": "Dt8JktkWk58D"
      },
      "execution_count": null,
      "outputs": []
    },
    {
      "cell_type": "code",
      "source": [
        "df.TranslatedInstructions[0]"
      ],
      "metadata": {
        "colab": {
          "base_uri": "https://localhost:8080/",
          "height": 182
        },
        "id": "M2MYsEprk_lD",
        "outputId": "a1f9fbe8-b803-4948-c569-9da7bd0ed0f1"
      },
      "execution_count": null,
      "outputs": [
        {
          "output_type": "execute_result",
          "data": {
            "text/plain": [
              "'to begin making the masala karela recipe de seed the karela and slice do not remove the skin as the skin has all the nutrients add the karela to the pressure cooker with 3 tablespoon of water salt and turmeric powder and pressure cook for three whistles release the pressure immediately and open the lids keep aside heat oil in a heavy bottomed pan or a kadhai add cumin seeds and let it sizzle once the cumin seeds have sizzled add onions and saute them till it turns golden brown in color add the karela red chilli powder amchur powder coriander powder and besan stir to combine the masalas into the karela drizzle a little extra oil on the top and mix again cover the pan and simmer masala karela stirring occasionally until everything comes together well turn off the heat transfer masala karela into a serving bowl and serve serve masala karela along with panchmel dal and phulka for a weekday meal with your family'"
            ],
            "application/vnd.google.colaboratory.intrinsic+json": {
              "type": "string"
            }
          },
          "metadata": {},
          "execution_count": 13
        }
      ]
    },
    {
      "cell_type": "code",
      "source": [
        "df.to_csv(\"food_receipes.txt\", columns=[\"TranslatedInstructions\"], header=None, index=False)"
      ],
      "metadata": {
        "id": "Kj1gAWB3lBPg"
      },
      "execution_count": null,
      "outputs": []
    },
    {
      "cell_type": "code",
      "source": [
        "!pip install fasttext"
      ],
      "metadata": {
        "colab": {
          "base_uri": "https://localhost:8080/"
        },
        "id": "hOXJrqe9n-Z7",
        "outputId": "7055e32d-5de9-468c-8cc4-ced3a35af606"
      },
      "execution_count": null,
      "outputs": [
        {
          "output_type": "stream",
          "name": "stdout",
          "text": [
            "Looking in indexes: https://pypi.org/simple, https://us-python.pkg.dev/colab-wheels/public/simple/\n",
            "Collecting fasttext\n",
            "  Downloading fasttext-0.9.2.tar.gz (68 kB)\n",
            "\u001b[2K     \u001b[90m━━━━━━━━━━━━━━━━━━━━━━━━━━━━━━━━━━━━━━━━\u001b[0m \u001b[32m68.8/68.8 KB\u001b[0m \u001b[31m10.1 MB/s\u001b[0m eta \u001b[36m0:00:00\u001b[0m\n",
            "\u001b[?25h  Preparing metadata (setup.py) ... \u001b[?25l\u001b[?25hdone\n",
            "Collecting pybind11>=2.2\n",
            "  Using cached pybind11-2.10.4-py3-none-any.whl (222 kB)\n",
            "Requirement already satisfied: setuptools>=0.7.0 in /usr/local/lib/python3.9/dist-packages (from fasttext) (67.6.1)\n",
            "Requirement already satisfied: numpy in /usr/local/lib/python3.9/dist-packages (from fasttext) (1.22.4)\n",
            "Building wheels for collected packages: fasttext\n",
            "  Building wheel for fasttext (setup.py) ... \u001b[?25l\u001b[?25hdone\n",
            "  Created wheel for fasttext: filename=fasttext-0.9.2-cp39-cp39-linux_x86_64.whl size=4395545 sha256=fa060fec19f2c0cfa6143680ae69fdc84a68ba6a3d07b71c3759d4973e4c70c0\n",
            "  Stored in directory: /root/.cache/pip/wheels/64/57/bc/1741406019061d5664914b070bd3e71f6244648732bc96109e\n",
            "Successfully built fasttext\n",
            "Installing collected packages: pybind11, fasttext\n",
            "Successfully installed fasttext-0.9.2 pybind11-2.10.4\n"
          ]
        }
      ]
    },
    {
      "cell_type": "code",
      "source": [
        "import fasttext\n",
        "\n",
        "model = fasttext.train_unsupervised(\"food_receipes.txt\")"
      ],
      "metadata": {
        "id": "VmR0Nox_lEEC"
      },
      "execution_count": null,
      "outputs": []
    },
    {
      "cell_type": "code",
      "source": [
        "model.get_nearest_neighbors(\"paneer\")"
      ],
      "metadata": {
        "colab": {
          "base_uri": "https://localhost:8080/"
        },
        "id": "4_8kFPe5lfud",
        "outputId": "cb8e52c9-3ea6-42af-815a-99a6ba832ee8"
      },
      "execution_count": null,
      "outputs": [
        {
          "output_type": "execute_result",
          "data": {
            "text/plain": [
              "[(0.7046746611595154, 'tikka'),\n",
              " (0.6630706191062927, 'tikkas'),\n",
              " (0.6622522473335266, 'tandoori'),\n",
              " (0.6518504619598389, 'bhurji'),\n",
              " (0.6466901302337646, 'reshmi'),\n",
              " (0.6369193196296692, 'nawabi'),\n",
              " (0.6190375685691833, 'makhanwala'),\n",
              " (0.6179590821266174, 'hariyali'),\n",
              " (0.6143130660057068, 'makhani'),\n",
              " (0.5987952351570129, 'malai')]"
            ]
          },
          "metadata": {},
          "execution_count": 23
        }
      ]
    },
    {
      "cell_type": "code",
      "source": [
        "model.get_nearest_neighbors(\"chutney\")"
      ],
      "metadata": {
        "colab": {
          "base_uri": "https://localhost:8080/"
        },
        "id": "BwQcr-EcllMx",
        "outputId": "dcc3c2a8-649a-466d-eaae-ebfb38e1e36b"
      },
      "execution_count": null,
      "outputs": [
        {
          "output_type": "execute_result",
          "data": {
            "text/plain": [
              "[(0.9275704622268677, 'chutneys'),\n",
              " (0.7463748455047607, 'dhaniya'),\n",
              " (0.7132056951522827, 'imli'),\n",
              " (0.7042087316513062, 'khajur'),\n",
              " (0.6639349460601807, 'kanchipuram'),\n",
              " (0.6590506434440613, 'pudina'),\n",
              " (0.6549491286277771, 'gothsu'),\n",
              " (0.6544407606124878, 'chammanthi'),\n",
              " (0.6525646448135376, 'south'),\n",
              " (0.6511055827140808, 'madurai')]"
            ]
          },
          "metadata": {},
          "execution_count": 24
        }
      ]
    },
    {
      "cell_type": "code",
      "source": [
        "model.get_nearest_neighbors(\"halwa\")"
      ],
      "metadata": {
        "colab": {
          "base_uri": "https://localhost:8080/"
        },
        "id": "ZoLyq-WblmYq",
        "outputId": "07d1f2b4-0e70-43c1-9aa3-1eeff7ed4b4a"
      },
      "execution_count": null,
      "outputs": [
        {
          "output_type": "execute_result",
          "data": {
            "text/plain": [
              "[(0.7467402815818787, 'khoya'),\n",
              " (0.7186369299888611, 'burfi'),\n",
              " (0.7104381322860718, 'rabri'),\n",
              " (0.6857462525367737, 'mawa'),\n",
              " (0.6752265095710754, 'badam'),\n",
              " (0.672613799571991, 'sheera'),\n",
              " (0.6673717498779297, 'kheer'),\n",
              " (0.6628114581108093, 'mohan'),\n",
              " (0.6588674187660217, 'basundi'),\n",
              " (0.6500763297080994, 'doodh')]"
            ]
          },
          "metadata": {},
          "execution_count": 25
        }
      ]
    },
    {
      "cell_type": "code",
      "source": [
        "model.get_nearest_neighbors(\"dosa\")"
      ],
      "metadata": {
        "colab": {
          "base_uri": "https://localhost:8080/"
        },
        "id": "RNdwSkcVlnbC",
        "outputId": "25893423-3c99-4e5f-fc64-ac18dbe7a70b"
      },
      "execution_count": null,
      "outputs": [
        {
          "output_type": "execute_result",
          "data": {
            "text/plain": [
              "[(0.8473756909370422, 'dosai'),\n",
              " (0.8177902698516846, 'dosas'),\n",
              " (0.7941131591796875, \"dosa's\"),\n",
              " (0.7563254237174988, 'uthappam'),\n",
              " (0.7445687055587769, 'uttapam'),\n",
              " (0.7228896021842957, 'kanchipuram'),\n",
              " (0.7157869338989258, 'dose'),\n",
              " (0.7090448141098022, 'neer'),\n",
              " (0.7085314393043518, 'pesarattu'),\n",
              " (0.7060192227363586, 'chembaruthi')]"
            ]
          },
          "metadata": {},
          "execution_count": 26
        }
      ]
    },
    {
      "cell_type": "markdown",
      "source": [
        "### Text Classification using Fasttext\n"
      ],
      "metadata": {
        "id": "pI-nXBiRohXZ"
      }
    },
    {
      "cell_type": "code",
      "source": [
        "import pandas as pd\n",
        "\n",
        "df= pd.read_csv(\"/content/ecommerceDataset.csv\", names=[\"category\", \"description\"], header=None)\n",
        "print(df.shape)\n",
        "df.head(3)"
      ],
      "metadata": {
        "colab": {
          "base_uri": "https://localhost:8080/",
          "height": 162
        },
        "id": "SU5jPtFfogm6",
        "outputId": "0efc4b29-f472-4071-8388-a3cbc831e453"
      },
      "execution_count": null,
      "outputs": [
        {
          "output_type": "stream",
          "name": "stdout",
          "text": [
            "(50425, 2)\n"
          ]
        },
        {
          "output_type": "execute_result",
          "data": {
            "text/plain": [
              "    category                                        description\n",
              "0  Household  Paper Plane Design Framed Wall Hanging Motivat...\n",
              "1  Household  SAF 'Floral' Framed Painting (Wood, 30 inch x ...\n",
              "2  Household  SAF 'UV Textured Modern Art Print Framed' Pain..."
            ],
            "text/html": [
              "\n",
              "  <div id=\"df-f4ebe606-f0fc-4218-8b88-3ea0a7cec312\">\n",
              "    <div class=\"colab-df-container\">\n",
              "      <div>\n",
              "<style scoped>\n",
              "    .dataframe tbody tr th:only-of-type {\n",
              "        vertical-align: middle;\n",
              "    }\n",
              "\n",
              "    .dataframe tbody tr th {\n",
              "        vertical-align: top;\n",
              "    }\n",
              "\n",
              "    .dataframe thead th {\n",
              "        text-align: right;\n",
              "    }\n",
              "</style>\n",
              "<table border=\"1\" class=\"dataframe\">\n",
              "  <thead>\n",
              "    <tr style=\"text-align: right;\">\n",
              "      <th></th>\n",
              "      <th>category</th>\n",
              "      <th>description</th>\n",
              "    </tr>\n",
              "  </thead>\n",
              "  <tbody>\n",
              "    <tr>\n",
              "      <th>0</th>\n",
              "      <td>Household</td>\n",
              "      <td>Paper Plane Design Framed Wall Hanging Motivat...</td>\n",
              "    </tr>\n",
              "    <tr>\n",
              "      <th>1</th>\n",
              "      <td>Household</td>\n",
              "      <td>SAF 'Floral' Framed Painting (Wood, 30 inch x ...</td>\n",
              "    </tr>\n",
              "    <tr>\n",
              "      <th>2</th>\n",
              "      <td>Household</td>\n",
              "      <td>SAF 'UV Textured Modern Art Print Framed' Pain...</td>\n",
              "    </tr>\n",
              "  </tbody>\n",
              "</table>\n",
              "</div>\n",
              "      <button class=\"colab-df-convert\" onclick=\"convertToInteractive('df-f4ebe606-f0fc-4218-8b88-3ea0a7cec312')\"\n",
              "              title=\"Convert this dataframe to an interactive table.\"\n",
              "              style=\"display:none;\">\n",
              "        \n",
              "  <svg xmlns=\"http://www.w3.org/2000/svg\" height=\"24px\"viewBox=\"0 0 24 24\"\n",
              "       width=\"24px\">\n",
              "    <path d=\"M0 0h24v24H0V0z\" fill=\"none\"/>\n",
              "    <path d=\"M18.56 5.44l.94 2.06.94-2.06 2.06-.94-2.06-.94-.94-2.06-.94 2.06-2.06.94zm-11 1L8.5 8.5l.94-2.06 2.06-.94-2.06-.94L8.5 2.5l-.94 2.06-2.06.94zm10 10l.94 2.06.94-2.06 2.06-.94-2.06-.94-.94-2.06-.94 2.06-2.06.94z\"/><path d=\"M17.41 7.96l-1.37-1.37c-.4-.4-.92-.59-1.43-.59-.52 0-1.04.2-1.43.59L10.3 9.45l-7.72 7.72c-.78.78-.78 2.05 0 2.83L4 21.41c.39.39.9.59 1.41.59.51 0 1.02-.2 1.41-.59l7.78-7.78 2.81-2.81c.8-.78.8-2.07 0-2.86zM5.41 20L4 18.59l7.72-7.72 1.47 1.35L5.41 20z\"/>\n",
              "  </svg>\n",
              "      </button>\n",
              "      \n",
              "  <style>\n",
              "    .colab-df-container {\n",
              "      display:flex;\n",
              "      flex-wrap:wrap;\n",
              "      gap: 12px;\n",
              "    }\n",
              "\n",
              "    .colab-df-convert {\n",
              "      background-color: #E8F0FE;\n",
              "      border: none;\n",
              "      border-radius: 50%;\n",
              "      cursor: pointer;\n",
              "      display: none;\n",
              "      fill: #1967D2;\n",
              "      height: 32px;\n",
              "      padding: 0 0 0 0;\n",
              "      width: 32px;\n",
              "    }\n",
              "\n",
              "    .colab-df-convert:hover {\n",
              "      background-color: #E2EBFA;\n",
              "      box-shadow: 0px 1px 2px rgba(60, 64, 67, 0.3), 0px 1px 3px 1px rgba(60, 64, 67, 0.15);\n",
              "      fill: #174EA6;\n",
              "    }\n",
              "\n",
              "    [theme=dark] .colab-df-convert {\n",
              "      background-color: #3B4455;\n",
              "      fill: #D2E3FC;\n",
              "    }\n",
              "\n",
              "    [theme=dark] .colab-df-convert:hover {\n",
              "      background-color: #434B5C;\n",
              "      box-shadow: 0px 1px 3px 1px rgba(0, 0, 0, 0.15);\n",
              "      filter: drop-shadow(0px 1px 2px rgba(0, 0, 0, 0.3));\n",
              "      fill: #FFFFFF;\n",
              "    }\n",
              "  </style>\n",
              "\n",
              "      <script>\n",
              "        const buttonEl =\n",
              "          document.querySelector('#df-f4ebe606-f0fc-4218-8b88-3ea0a7cec312 button.colab-df-convert');\n",
              "        buttonEl.style.display =\n",
              "          google.colab.kernel.accessAllowed ? 'block' : 'none';\n",
              "\n",
              "        async function convertToInteractive(key) {\n",
              "          const element = document.querySelector('#df-f4ebe606-f0fc-4218-8b88-3ea0a7cec312');\n",
              "          const dataTable =\n",
              "            await google.colab.kernel.invokeFunction('convertToInteractive',\n",
              "                                                     [key], {});\n",
              "          if (!dataTable) return;\n",
              "\n",
              "          const docLinkHtml = 'Like what you see? Visit the ' +\n",
              "            '<a target=\"_blank\" href=https://colab.research.google.com/notebooks/data_table.ipynb>data table notebook</a>'\n",
              "            + ' to learn more about interactive tables.';\n",
              "          element.innerHTML = '';\n",
              "          dataTable['output_type'] = 'display_data';\n",
              "          await google.colab.output.renderOutput(dataTable, element);\n",
              "          const docLink = document.createElement('div');\n",
              "          docLink.innerHTML = docLinkHtml;\n",
              "          element.appendChild(docLink);\n",
              "        }\n",
              "      </script>\n",
              "    </div>\n",
              "  </div>\n",
              "  "
            ]
          },
          "metadata": {},
          "execution_count": 31
        }
      ]
    },
    {
      "cell_type": "code",
      "source": [
        "df.dropna(inplace=True)\n",
        "df.shape"
      ],
      "metadata": {
        "colab": {
          "base_uri": "https://localhost:8080/"
        },
        "id": "Nit2MfckqX_T",
        "outputId": "b90bc59b-e29f-48b5-960f-b0db1d8b7976"
      },
      "execution_count": null,
      "outputs": [
        {
          "output_type": "execute_result",
          "data": {
            "text/plain": [
              "(50424, 2)"
            ]
          },
          "metadata": {},
          "execution_count": 32
        }
      ]
    },
    {
      "cell_type": "code",
      "source": [
        "df.category.unique()"
      ],
      "metadata": {
        "colab": {
          "base_uri": "https://localhost:8080/"
        },
        "id": "RvSi0VWwqZsI",
        "outputId": "2bf5fb18-3c26-4aa6-89c4-124971b5edeb"
      },
      "execution_count": null,
      "outputs": [
        {
          "output_type": "execute_result",
          "data": {
            "text/plain": [
              "array(['Household', 'Books', 'Clothing & Accessories', 'Electronics'],\n",
              "      dtype=object)"
            ]
          },
          "metadata": {},
          "execution_count": 33
        }
      ]
    },
    {
      "cell_type": "code",
      "source": [
        "df.category.replace(\"Clothing & Accessories\", \"Clothing_Accessories\", inplace=True)"
      ],
      "metadata": {
        "id": "lUmbxbXoqbo3"
      },
      "execution_count": null,
      "outputs": []
    },
    {
      "cell_type": "code",
      "source": [
        "df.category.unique()"
      ],
      "metadata": {
        "colab": {
          "base_uri": "https://localhost:8080/"
        },
        "id": "QQfAJPOpqdCd",
        "outputId": "2a80e361-ad2e-4274-d52b-42d814f3c952"
      },
      "execution_count": null,
      "outputs": [
        {
          "output_type": "execute_result",
          "data": {
            "text/plain": [
              "array(['Household', 'Books', 'Clothing_Accessories', 'Electronics'],\n",
              "      dtype=object)"
            ]
          },
          "metadata": {},
          "execution_count": 35
        }
      ]
    },
    {
      "cell_type": "code",
      "source": [
        "df['category'] = '__label__' + df['category'].astype(str)\n",
        "df.head(5)\n"
      ],
      "metadata": {
        "colab": {
          "base_uri": "https://localhost:8080/",
          "height": 206
        },
        "id": "enQX0rO2wdj_",
        "outputId": "b7d8e58e-f0fd-491d-df20-7e063f471f23"
      },
      "execution_count": null,
      "outputs": [
        {
          "output_type": "execute_result",
          "data": {
            "text/plain": [
              "             category                                        description\n",
              "0  __label__Household  Paper Plane Design Framed Wall Hanging Motivat...\n",
              "1  __label__Household  SAF 'Floral' Framed Painting (Wood, 30 inch x ...\n",
              "2  __label__Household  SAF 'UV Textured Modern Art Print Framed' Pain...\n",
              "3  __label__Household  SAF Flower Print Framed Painting (Synthetic, 1...\n",
              "4  __label__Household  Incredible Gifts India Wooden Happy Birthday U..."
            ],
            "text/html": [
              "\n",
              "  <div id=\"df-044b6aa0-3f3e-49a3-8c06-5d108d00b21e\">\n",
              "    <div class=\"colab-df-container\">\n",
              "      <div>\n",
              "<style scoped>\n",
              "    .dataframe tbody tr th:only-of-type {\n",
              "        vertical-align: middle;\n",
              "    }\n",
              "\n",
              "    .dataframe tbody tr th {\n",
              "        vertical-align: top;\n",
              "    }\n",
              "\n",
              "    .dataframe thead th {\n",
              "        text-align: right;\n",
              "    }\n",
              "</style>\n",
              "<table border=\"1\" class=\"dataframe\">\n",
              "  <thead>\n",
              "    <tr style=\"text-align: right;\">\n",
              "      <th></th>\n",
              "      <th>category</th>\n",
              "      <th>description</th>\n",
              "    </tr>\n",
              "  </thead>\n",
              "  <tbody>\n",
              "    <tr>\n",
              "      <th>0</th>\n",
              "      <td>__label__Household</td>\n",
              "      <td>Paper Plane Design Framed Wall Hanging Motivat...</td>\n",
              "    </tr>\n",
              "    <tr>\n",
              "      <th>1</th>\n",
              "      <td>__label__Household</td>\n",
              "      <td>SAF 'Floral' Framed Painting (Wood, 30 inch x ...</td>\n",
              "    </tr>\n",
              "    <tr>\n",
              "      <th>2</th>\n",
              "      <td>__label__Household</td>\n",
              "      <td>SAF 'UV Textured Modern Art Print Framed' Pain...</td>\n",
              "    </tr>\n",
              "    <tr>\n",
              "      <th>3</th>\n",
              "      <td>__label__Household</td>\n",
              "      <td>SAF Flower Print Framed Painting (Synthetic, 1...</td>\n",
              "    </tr>\n",
              "    <tr>\n",
              "      <th>4</th>\n",
              "      <td>__label__Household</td>\n",
              "      <td>Incredible Gifts India Wooden Happy Birthday U...</td>\n",
              "    </tr>\n",
              "  </tbody>\n",
              "</table>\n",
              "</div>\n",
              "      <button class=\"colab-df-convert\" onclick=\"convertToInteractive('df-044b6aa0-3f3e-49a3-8c06-5d108d00b21e')\"\n",
              "              title=\"Convert this dataframe to an interactive table.\"\n",
              "              style=\"display:none;\">\n",
              "        \n",
              "  <svg xmlns=\"http://www.w3.org/2000/svg\" height=\"24px\"viewBox=\"0 0 24 24\"\n",
              "       width=\"24px\">\n",
              "    <path d=\"M0 0h24v24H0V0z\" fill=\"none\"/>\n",
              "    <path d=\"M18.56 5.44l.94 2.06.94-2.06 2.06-.94-2.06-.94-.94-2.06-.94 2.06-2.06.94zm-11 1L8.5 8.5l.94-2.06 2.06-.94-2.06-.94L8.5 2.5l-.94 2.06-2.06.94zm10 10l.94 2.06.94-2.06 2.06-.94-2.06-.94-.94-2.06-.94 2.06-2.06.94z\"/><path d=\"M17.41 7.96l-1.37-1.37c-.4-.4-.92-.59-1.43-.59-.52 0-1.04.2-1.43.59L10.3 9.45l-7.72 7.72c-.78.78-.78 2.05 0 2.83L4 21.41c.39.39.9.59 1.41.59.51 0 1.02-.2 1.41-.59l7.78-7.78 2.81-2.81c.8-.78.8-2.07 0-2.86zM5.41 20L4 18.59l7.72-7.72 1.47 1.35L5.41 20z\"/>\n",
              "  </svg>\n",
              "      </button>\n",
              "      \n",
              "  <style>\n",
              "    .colab-df-container {\n",
              "      display:flex;\n",
              "      flex-wrap:wrap;\n",
              "      gap: 12px;\n",
              "    }\n",
              "\n",
              "    .colab-df-convert {\n",
              "      background-color: #E8F0FE;\n",
              "      border: none;\n",
              "      border-radius: 50%;\n",
              "      cursor: pointer;\n",
              "      display: none;\n",
              "      fill: #1967D2;\n",
              "      height: 32px;\n",
              "      padding: 0 0 0 0;\n",
              "      width: 32px;\n",
              "    }\n",
              "\n",
              "    .colab-df-convert:hover {\n",
              "      background-color: #E2EBFA;\n",
              "      box-shadow: 0px 1px 2px rgba(60, 64, 67, 0.3), 0px 1px 3px 1px rgba(60, 64, 67, 0.15);\n",
              "      fill: #174EA6;\n",
              "    }\n",
              "\n",
              "    [theme=dark] .colab-df-convert {\n",
              "      background-color: #3B4455;\n",
              "      fill: #D2E3FC;\n",
              "    }\n",
              "\n",
              "    [theme=dark] .colab-df-convert:hover {\n",
              "      background-color: #434B5C;\n",
              "      box-shadow: 0px 1px 3px 1px rgba(0, 0, 0, 0.15);\n",
              "      filter: drop-shadow(0px 1px 2px rgba(0, 0, 0, 0.3));\n",
              "      fill: #FFFFFF;\n",
              "    }\n",
              "  </style>\n",
              "\n",
              "      <script>\n",
              "        const buttonEl =\n",
              "          document.querySelector('#df-044b6aa0-3f3e-49a3-8c06-5d108d00b21e button.colab-df-convert');\n",
              "        buttonEl.style.display =\n",
              "          google.colab.kernel.accessAllowed ? 'block' : 'none';\n",
              "\n",
              "        async function convertToInteractive(key) {\n",
              "          const element = document.querySelector('#df-044b6aa0-3f3e-49a3-8c06-5d108d00b21e');\n",
              "          const dataTable =\n",
              "            await google.colab.kernel.invokeFunction('convertToInteractive',\n",
              "                                                     [key], {});\n",
              "          if (!dataTable) return;\n",
              "\n",
              "          const docLinkHtml = 'Like what you see? Visit the ' +\n",
              "            '<a target=\"_blank\" href=https://colab.research.google.com/notebooks/data_table.ipynb>data table notebook</a>'\n",
              "            + ' to learn more about interactive tables.';\n",
              "          element.innerHTML = '';\n",
              "          dataTable['output_type'] = 'display_data';\n",
              "          await google.colab.output.renderOutput(dataTable, element);\n",
              "          const docLink = document.createElement('div');\n",
              "          docLink.innerHTML = docLinkHtml;\n",
              "          element.appendChild(docLink);\n",
              "        }\n",
              "      </script>\n",
              "    </div>\n",
              "  </div>\n",
              "  "
            ]
          },
          "metadata": {},
          "execution_count": 36
        }
      ]
    },
    {
      "cell_type": "code",
      "source": [
        "df['category_description'] = df['category'] + ' ' + df['description']\n",
        "df.head(3)"
      ],
      "metadata": {
        "colab": {
          "base_uri": "https://localhost:8080/",
          "height": 222
        },
        "id": "TecWpaH4wm9c",
        "outputId": "29c1b35e-c556-438e-cfb5-fbe0d6763e64"
      },
      "execution_count": null,
      "outputs": [
        {
          "output_type": "execute_result",
          "data": {
            "text/plain": [
              "             category                                        description  \\\n",
              "0  __label__Household  Paper Plane Design Framed Wall Hanging Motivat...   \n",
              "1  __label__Household  SAF 'Floral' Framed Painting (Wood, 30 inch x ...   \n",
              "2  __label__Household  SAF 'UV Textured Modern Art Print Framed' Pain...   \n",
              "\n",
              "                                category_description  \n",
              "0  __label__Household Paper Plane Design Framed W...  \n",
              "1  __label__Household SAF 'Floral' Framed Paintin...  \n",
              "2  __label__Household SAF 'UV Textured Modern Art...  "
            ],
            "text/html": [
              "\n",
              "  <div id=\"df-96e6c457-3ce7-4b36-9a8a-812fb6cf3dae\">\n",
              "    <div class=\"colab-df-container\">\n",
              "      <div>\n",
              "<style scoped>\n",
              "    .dataframe tbody tr th:only-of-type {\n",
              "        vertical-align: middle;\n",
              "    }\n",
              "\n",
              "    .dataframe tbody tr th {\n",
              "        vertical-align: top;\n",
              "    }\n",
              "\n",
              "    .dataframe thead th {\n",
              "        text-align: right;\n",
              "    }\n",
              "</style>\n",
              "<table border=\"1\" class=\"dataframe\">\n",
              "  <thead>\n",
              "    <tr style=\"text-align: right;\">\n",
              "      <th></th>\n",
              "      <th>category</th>\n",
              "      <th>description</th>\n",
              "      <th>category_description</th>\n",
              "    </tr>\n",
              "  </thead>\n",
              "  <tbody>\n",
              "    <tr>\n",
              "      <th>0</th>\n",
              "      <td>__label__Household</td>\n",
              "      <td>Paper Plane Design Framed Wall Hanging Motivat...</td>\n",
              "      <td>__label__Household Paper Plane Design Framed W...</td>\n",
              "    </tr>\n",
              "    <tr>\n",
              "      <th>1</th>\n",
              "      <td>__label__Household</td>\n",
              "      <td>SAF 'Floral' Framed Painting (Wood, 30 inch x ...</td>\n",
              "      <td>__label__Household SAF 'Floral' Framed Paintin...</td>\n",
              "    </tr>\n",
              "    <tr>\n",
              "      <th>2</th>\n",
              "      <td>__label__Household</td>\n",
              "      <td>SAF 'UV Textured Modern Art Print Framed' Pain...</td>\n",
              "      <td>__label__Household SAF 'UV Textured Modern Art...</td>\n",
              "    </tr>\n",
              "  </tbody>\n",
              "</table>\n",
              "</div>\n",
              "      <button class=\"colab-df-convert\" onclick=\"convertToInteractive('df-96e6c457-3ce7-4b36-9a8a-812fb6cf3dae')\"\n",
              "              title=\"Convert this dataframe to an interactive table.\"\n",
              "              style=\"display:none;\">\n",
              "        \n",
              "  <svg xmlns=\"http://www.w3.org/2000/svg\" height=\"24px\"viewBox=\"0 0 24 24\"\n",
              "       width=\"24px\">\n",
              "    <path d=\"M0 0h24v24H0V0z\" fill=\"none\"/>\n",
              "    <path d=\"M18.56 5.44l.94 2.06.94-2.06 2.06-.94-2.06-.94-.94-2.06-.94 2.06-2.06.94zm-11 1L8.5 8.5l.94-2.06 2.06-.94-2.06-.94L8.5 2.5l-.94 2.06-2.06.94zm10 10l.94 2.06.94-2.06 2.06-.94-2.06-.94-.94-2.06-.94 2.06-2.06.94z\"/><path d=\"M17.41 7.96l-1.37-1.37c-.4-.4-.92-.59-1.43-.59-.52 0-1.04.2-1.43.59L10.3 9.45l-7.72 7.72c-.78.78-.78 2.05 0 2.83L4 21.41c.39.39.9.59 1.41.59.51 0 1.02-.2 1.41-.59l7.78-7.78 2.81-2.81c.8-.78.8-2.07 0-2.86zM5.41 20L4 18.59l7.72-7.72 1.47 1.35L5.41 20z\"/>\n",
              "  </svg>\n",
              "      </button>\n",
              "      \n",
              "  <style>\n",
              "    .colab-df-container {\n",
              "      display:flex;\n",
              "      flex-wrap:wrap;\n",
              "      gap: 12px;\n",
              "    }\n",
              "\n",
              "    .colab-df-convert {\n",
              "      background-color: #E8F0FE;\n",
              "      border: none;\n",
              "      border-radius: 50%;\n",
              "      cursor: pointer;\n",
              "      display: none;\n",
              "      fill: #1967D2;\n",
              "      height: 32px;\n",
              "      padding: 0 0 0 0;\n",
              "      width: 32px;\n",
              "    }\n",
              "\n",
              "    .colab-df-convert:hover {\n",
              "      background-color: #E2EBFA;\n",
              "      box-shadow: 0px 1px 2px rgba(60, 64, 67, 0.3), 0px 1px 3px 1px rgba(60, 64, 67, 0.15);\n",
              "      fill: #174EA6;\n",
              "    }\n",
              "\n",
              "    [theme=dark] .colab-df-convert {\n",
              "      background-color: #3B4455;\n",
              "      fill: #D2E3FC;\n",
              "    }\n",
              "\n",
              "    [theme=dark] .colab-df-convert:hover {\n",
              "      background-color: #434B5C;\n",
              "      box-shadow: 0px 1px 3px 1px rgba(0, 0, 0, 0.15);\n",
              "      filter: drop-shadow(0px 1px 2px rgba(0, 0, 0, 0.3));\n",
              "      fill: #FFFFFF;\n",
              "    }\n",
              "  </style>\n",
              "\n",
              "      <script>\n",
              "        const buttonEl =\n",
              "          document.querySelector('#df-96e6c457-3ce7-4b36-9a8a-812fb6cf3dae button.colab-df-convert');\n",
              "        buttonEl.style.display =\n",
              "          google.colab.kernel.accessAllowed ? 'block' : 'none';\n",
              "\n",
              "        async function convertToInteractive(key) {\n",
              "          const element = document.querySelector('#df-96e6c457-3ce7-4b36-9a8a-812fb6cf3dae');\n",
              "          const dataTable =\n",
              "            await google.colab.kernel.invokeFunction('convertToInteractive',\n",
              "                                                     [key], {});\n",
              "          if (!dataTable) return;\n",
              "\n",
              "          const docLinkHtml = 'Like what you see? Visit the ' +\n",
              "            '<a target=\"_blank\" href=https://colab.research.google.com/notebooks/data_table.ipynb>data table notebook</a>'\n",
              "            + ' to learn more about interactive tables.';\n",
              "          element.innerHTML = '';\n",
              "          dataTable['output_type'] = 'display_data';\n",
              "          await google.colab.output.renderOutput(dataTable, element);\n",
              "          const docLink = document.createElement('div');\n",
              "          docLink.innerHTML = docLinkHtml;\n",
              "          element.appendChild(docLink);\n",
              "        }\n",
              "      </script>\n",
              "    </div>\n",
              "  </div>\n",
              "  "
            ]
          },
          "metadata": {},
          "execution_count": 38
        }
      ]
    },
    {
      "cell_type": "code",
      "source": [
        "import re\n",
        "\n",
        "text = \"  VIKI's | Bookcase/Bookshelf (3-Shelf/Shelve, White) | ? . hi\"\n",
        "text = re.sub(r'[^\\w\\s\\']',' ', text)\n",
        "text = re.sub(' +', ' ', text)\n",
        "text.strip().lower()"
      ],
      "metadata": {
        "colab": {
          "base_uri": "https://localhost:8080/",
          "height": 36
        },
        "id": "_6jKPkyPwsQq",
        "outputId": "2e390793-4db6-4f79-c1c4-5f45d51e25b2"
      },
      "execution_count": null,
      "outputs": [
        {
          "output_type": "execute_result",
          "data": {
            "text/plain": [
              "\"viki's bookcase bookshelf 3 shelf shelve white hi\""
            ],
            "application/vnd.google.colaboratory.intrinsic+json": {
              "type": "string"
            }
          },
          "metadata": {},
          "execution_count": 39
        }
      ]
    },
    {
      "cell_type": "code",
      "source": [
        "def preprocess(text):\n",
        "    text = re.sub(r'[^\\w\\s\\']',' ', text)\n",
        "    text = re.sub(' +', ' ', text)\n",
        "    return text.strip().lower()"
      ],
      "metadata": {
        "id": "tiKCISbjwuG1"
      },
      "execution_count": null,
      "outputs": []
    },
    {
      "cell_type": "code",
      "source": [
        "df['category_description'] = df['category_description'].map(preprocess)\n",
        "df.head()\n"
      ],
      "metadata": {
        "colab": {
          "base_uri": "https://localhost:8080/",
          "height": 267
        },
        "id": "bDhT5n3zw0QE",
        "outputId": "39148387-6b28-485b-d279-bd73c7fc0cf0"
      },
      "execution_count": null,
      "outputs": [
        {
          "output_type": "execute_result",
          "data": {
            "text/plain": [
              "             category                                        description  \\\n",
              "0  __label__Household  Paper Plane Design Framed Wall Hanging Motivat...   \n",
              "1  __label__Household  SAF 'Floral' Framed Painting (Wood, 30 inch x ...   \n",
              "2  __label__Household  SAF 'UV Textured Modern Art Print Framed' Pain...   \n",
              "3  __label__Household  SAF Flower Print Framed Painting (Synthetic, 1...   \n",
              "4  __label__Household  Incredible Gifts India Wooden Happy Birthday U...   \n",
              "\n",
              "                                category_description  \n",
              "0  __label__household paper plane design framed w...  \n",
              "1  __label__household saf 'floral' framed paintin...  \n",
              "2  __label__household saf 'uv textured modern art...  \n",
              "3  __label__household saf flower print framed pai...  \n",
              "4  __label__household incredible gifts india wood...  "
            ],
            "text/html": [
              "\n",
              "  <div id=\"df-ec30f513-4529-4305-8903-e13474dbdc7f\">\n",
              "    <div class=\"colab-df-container\">\n",
              "      <div>\n",
              "<style scoped>\n",
              "    .dataframe tbody tr th:only-of-type {\n",
              "        vertical-align: middle;\n",
              "    }\n",
              "\n",
              "    .dataframe tbody tr th {\n",
              "        vertical-align: top;\n",
              "    }\n",
              "\n",
              "    .dataframe thead th {\n",
              "        text-align: right;\n",
              "    }\n",
              "</style>\n",
              "<table border=\"1\" class=\"dataframe\">\n",
              "  <thead>\n",
              "    <tr style=\"text-align: right;\">\n",
              "      <th></th>\n",
              "      <th>category</th>\n",
              "      <th>description</th>\n",
              "      <th>category_description</th>\n",
              "    </tr>\n",
              "  </thead>\n",
              "  <tbody>\n",
              "    <tr>\n",
              "      <th>0</th>\n",
              "      <td>__label__Household</td>\n",
              "      <td>Paper Plane Design Framed Wall Hanging Motivat...</td>\n",
              "      <td>__label__household paper plane design framed w...</td>\n",
              "    </tr>\n",
              "    <tr>\n",
              "      <th>1</th>\n",
              "      <td>__label__Household</td>\n",
              "      <td>SAF 'Floral' Framed Painting (Wood, 30 inch x ...</td>\n",
              "      <td>__label__household saf 'floral' framed paintin...</td>\n",
              "    </tr>\n",
              "    <tr>\n",
              "      <th>2</th>\n",
              "      <td>__label__Household</td>\n",
              "      <td>SAF 'UV Textured Modern Art Print Framed' Pain...</td>\n",
              "      <td>__label__household saf 'uv textured modern art...</td>\n",
              "    </tr>\n",
              "    <tr>\n",
              "      <th>3</th>\n",
              "      <td>__label__Household</td>\n",
              "      <td>SAF Flower Print Framed Painting (Synthetic, 1...</td>\n",
              "      <td>__label__household saf flower print framed pai...</td>\n",
              "    </tr>\n",
              "    <tr>\n",
              "      <th>4</th>\n",
              "      <td>__label__Household</td>\n",
              "      <td>Incredible Gifts India Wooden Happy Birthday U...</td>\n",
              "      <td>__label__household incredible gifts india wood...</td>\n",
              "    </tr>\n",
              "  </tbody>\n",
              "</table>\n",
              "</div>\n",
              "      <button class=\"colab-df-convert\" onclick=\"convertToInteractive('df-ec30f513-4529-4305-8903-e13474dbdc7f')\"\n",
              "              title=\"Convert this dataframe to an interactive table.\"\n",
              "              style=\"display:none;\">\n",
              "        \n",
              "  <svg xmlns=\"http://www.w3.org/2000/svg\" height=\"24px\"viewBox=\"0 0 24 24\"\n",
              "       width=\"24px\">\n",
              "    <path d=\"M0 0h24v24H0V0z\" fill=\"none\"/>\n",
              "    <path d=\"M18.56 5.44l.94 2.06.94-2.06 2.06-.94-2.06-.94-.94-2.06-.94 2.06-2.06.94zm-11 1L8.5 8.5l.94-2.06 2.06-.94-2.06-.94L8.5 2.5l-.94 2.06-2.06.94zm10 10l.94 2.06.94-2.06 2.06-.94-2.06-.94-.94-2.06-.94 2.06-2.06.94z\"/><path d=\"M17.41 7.96l-1.37-1.37c-.4-.4-.92-.59-1.43-.59-.52 0-1.04.2-1.43.59L10.3 9.45l-7.72 7.72c-.78.78-.78 2.05 0 2.83L4 21.41c.39.39.9.59 1.41.59.51 0 1.02-.2 1.41-.59l7.78-7.78 2.81-2.81c.8-.78.8-2.07 0-2.86zM5.41 20L4 18.59l7.72-7.72 1.47 1.35L5.41 20z\"/>\n",
              "  </svg>\n",
              "      </button>\n",
              "      \n",
              "  <style>\n",
              "    .colab-df-container {\n",
              "      display:flex;\n",
              "      flex-wrap:wrap;\n",
              "      gap: 12px;\n",
              "    }\n",
              "\n",
              "    .colab-df-convert {\n",
              "      background-color: #E8F0FE;\n",
              "      border: none;\n",
              "      border-radius: 50%;\n",
              "      cursor: pointer;\n",
              "      display: none;\n",
              "      fill: #1967D2;\n",
              "      height: 32px;\n",
              "      padding: 0 0 0 0;\n",
              "      width: 32px;\n",
              "    }\n",
              "\n",
              "    .colab-df-convert:hover {\n",
              "      background-color: #E2EBFA;\n",
              "      box-shadow: 0px 1px 2px rgba(60, 64, 67, 0.3), 0px 1px 3px 1px rgba(60, 64, 67, 0.15);\n",
              "      fill: #174EA6;\n",
              "    }\n",
              "\n",
              "    [theme=dark] .colab-df-convert {\n",
              "      background-color: #3B4455;\n",
              "      fill: #D2E3FC;\n",
              "    }\n",
              "\n",
              "    [theme=dark] .colab-df-convert:hover {\n",
              "      background-color: #434B5C;\n",
              "      box-shadow: 0px 1px 3px 1px rgba(0, 0, 0, 0.15);\n",
              "      filter: drop-shadow(0px 1px 2px rgba(0, 0, 0, 0.3));\n",
              "      fill: #FFFFFF;\n",
              "    }\n",
              "  </style>\n",
              "\n",
              "      <script>\n",
              "        const buttonEl =\n",
              "          document.querySelector('#df-ec30f513-4529-4305-8903-e13474dbdc7f button.colab-df-convert');\n",
              "        buttonEl.style.display =\n",
              "          google.colab.kernel.accessAllowed ? 'block' : 'none';\n",
              "\n",
              "        async function convertToInteractive(key) {\n",
              "          const element = document.querySelector('#df-ec30f513-4529-4305-8903-e13474dbdc7f');\n",
              "          const dataTable =\n",
              "            await google.colab.kernel.invokeFunction('convertToInteractive',\n",
              "                                                     [key], {});\n",
              "          if (!dataTable) return;\n",
              "\n",
              "          const docLinkHtml = 'Like what you see? Visit the ' +\n",
              "            '<a target=\"_blank\" href=https://colab.research.google.com/notebooks/data_table.ipynb>data table notebook</a>'\n",
              "            + ' to learn more about interactive tables.';\n",
              "          element.innerHTML = '';\n",
              "          dataTable['output_type'] = 'display_data';\n",
              "          await google.colab.output.renderOutput(dataTable, element);\n",
              "          const docLink = document.createElement('div');\n",
              "          docLink.innerHTML = docLinkHtml;\n",
              "          element.appendChild(docLink);\n",
              "        }\n",
              "      </script>\n",
              "    </div>\n",
              "  </div>\n",
              "  "
            ]
          },
          "metadata": {},
          "execution_count": 43
        }
      ]
    },
    {
      "cell_type": "code",
      "source": [
        "from sklearn.model_selection import train_test_split\n",
        "\n",
        "train, test = train_test_split(df, test_size=0.2)"
      ],
      "metadata": {
        "id": "2i0rurCOwm7m"
      },
      "execution_count": null,
      "outputs": []
    },
    {
      "cell_type": "code",
      "source": [
        "train.shape, test.shape"
      ],
      "metadata": {
        "colab": {
          "base_uri": "https://localhost:8080/"
        },
        "id": "gCFYvb3ow_lC",
        "outputId": "115a1a41-9640-42c3-8c22-aefa32008dea"
      },
      "execution_count": null,
      "outputs": [
        {
          "output_type": "execute_result",
          "data": {
            "text/plain": [
              "((40339, 3), (10085, 3))"
            ]
          },
          "metadata": {},
          "execution_count": 45
        }
      ]
    },
    {
      "cell_type": "code",
      "source": [
        "train.to_csv(\"ecommerce.train\", columns=[\"category_description\"], index=False, header=False)\n",
        "test.to_csv(\"ecommerce.test\", columns=[\"category_description\"], index=False, header=False)"
      ],
      "metadata": {
        "id": "Qirv9oQyxB2C"
      },
      "execution_count": null,
      "outputs": []
    },
    {
      "cell_type": "code",
      "source": [
        "import fasttext\n",
        "\n",
        "model = fasttext.train_supervised(input=\"ecommerce.train\")\n",
        "model.test(\"ecommerce.test\")"
      ],
      "metadata": {
        "colab": {
          "base_uri": "https://localhost:8080/"
        },
        "id": "nliUFzolxDjB",
        "outputId": "22a28a56-7c3a-4687-a36c-313d2ec8394e"
      },
      "execution_count": null,
      "outputs": [
        {
          "output_type": "execute_result",
          "data": {
            "text/plain": [
              "(10083, 0.9698502429832391, 0.9698502429832391)"
            ]
          },
          "metadata": {},
          "execution_count": 47
        }
      ]
    },
    {
      "cell_type": "code",
      "source": [
        "import fasttext\n",
        "\n",
        "model = fasttext.train_supervised(input=\"ecommerce.train\")\n",
        "model.test(\"ecommerce.test\")"
      ],
      "metadata": {
        "colab": {
          "base_uri": "https://localhost:8080/"
        },
        "id": "FM5De7VYxFQy",
        "outputId": "5749a4f3-d035-4047-81e2-4486ed7b7e4a"
      },
      "execution_count": null,
      "outputs": [
        {
          "output_type": "execute_result",
          "data": {
            "text/plain": [
              "(10083, 0.9698502429832391, 0.9698502429832391)"
            ]
          },
          "metadata": {},
          "execution_count": 48
        }
      ]
    },
    {
      "cell_type": "code",
      "source": [
        "model.predict(\"ockey men's cotton t shirt fabric details 80 cotton 20 polyester super combed cotton rich fabric\")"
      ],
      "metadata": {
        "colab": {
          "base_uri": "https://localhost:8080/"
        },
        "id": "0cfUYaAIxHXR",
        "outputId": "290b0ed9-09f4-4c49-8533-b443af9c35b1"
      },
      "execution_count": null,
      "outputs": [
        {
          "output_type": "execute_result",
          "data": {
            "text/plain": [
              "(('__label__clothing_accessories',), array([1.00001001]))"
            ]
          },
          "metadata": {},
          "execution_count": 49
        }
      ]
    },
    {
      "cell_type": "code",
      "source": [
        "model.predict(\"think and grow rich deluxe edition\")"
      ],
      "metadata": {
        "colab": {
          "base_uri": "https://localhost:8080/"
        },
        "id": "FIwf-pNoxJfT",
        "outputId": "c6b1b6d0-8e19-4e02-f868-b4b6ceab85f2"
      },
      "execution_count": null,
      "outputs": [
        {
          "output_type": "execute_result",
          "data": {
            "text/plain": [
              "(('__label__books',), array([1.00000918]))"
            ]
          },
          "metadata": {},
          "execution_count": 50
        }
      ]
    },
    {
      "cell_type": "code",
      "source": [
        "model.get_nearest_neighbors(\"painting\")"
      ],
      "metadata": {
        "colab": {
          "base_uri": "https://localhost:8080/"
        },
        "id": "ZkQ3xvs5xLXE",
        "outputId": "e67304e6-0335-4e31-9216-4a784c4081ec"
      },
      "execution_count": null,
      "outputs": [
        {
          "output_type": "execute_result",
          "data": {
            "text/plain": [
              "[(0.9987960457801819, 'valet'),\n",
              " (0.9987875819206238, '\\xa0quality'),\n",
              " (0.9987875819206238, '\\xa0\\xa0easy'),\n",
              " (0.9987857937812805, 'granule'),\n",
              " (0.9987818002700806, 'bch20dbb21'),\n",
              " (0.9987818002700806, '217897'),\n",
              " (0.9987817406654358, 'chefdelite'),\n",
              " (0.998775839805603, \"'magnificent\"),\n",
              " (0.998774528503418, 'hl7576'),\n",
              " (0.9987744092941284, 'saysha')]"
            ]
          },
          "metadata": {},
          "execution_count": 51
        }
      ]
    },
    {
      "cell_type": "code",
      "source": [
        "model.get_nearest_neighbors(\"sony\")"
      ],
      "metadata": {
        "id": "-AiE4-dlxM8s",
        "outputId": "67f234f1-a12c-4657-c031-215becdeea4b",
        "colab": {
          "base_uri": "https://localhost:8080/"
        }
      },
      "execution_count": null,
      "outputs": [
        {
          "output_type": "execute_result",
          "data": {
            "text/plain": [
              "[(0.9990699291229248, 'trojans'),\n",
              " (0.9990532994270325, 'armored'),\n",
              " (0.9990532398223877, 'ima_adpcm'),\n",
              " (0.9990532398223877, 'attentively'),\n",
              " (0.9990511536598206, 'posthumous'),\n",
              " (0.999049723148346, '6000'),\n",
              " (0.9990447163581848, 'asses'),\n",
              " (0.9990418553352356, 'uninterruptedly'),\n",
              " (0.9990308880805969, 'reread'),\n",
              " (0.999017059803009, '1536')]"
            ]
          },
          "metadata": {},
          "execution_count": 52
        }
      ]
    },
    {
      "cell_type": "code",
      "source": [
        "model.get_nearest_neighbors(\"banglore\")"
      ],
      "metadata": {
        "id": "7NcYt8MsxOyU",
        "outputId": "fcc6d2ce-1527-4c02-847d-a373b3cca50e",
        "colab": {
          "base_uri": "https://localhost:8080/"
        }
      },
      "execution_count": null,
      "outputs": [
        {
          "output_type": "execute_result",
          "data": {
            "text/plain": [
              "[(0.0, 'to'),\n",
              " (0.0, 'and'),\n",
              " (0.0, 'a'),\n",
              " (0.0, 'with'),\n",
              " (0.0, 'for'),\n",
              " (0.0, 'is'),\n",
              " (0.0, '</s>'),\n",
              " (0.0, 'dippernote'),\n",
              " (0.0, '98inchpackage'),\n",
              " (0.0, '30x0')]"
            ]
          },
          "metadata": {},
          "execution_count": 53
        }
      ]
    }
  ],
  "metadata": {
    "accelerator": "GPU",
    "colab": {
      "provenance": []
    },
    "gpuClass": "standard",
    "kernelspec": {
      "display_name": "Python 3",
      "name": "python3"
    },
    "language_info": {
      "name": "python"
    }
  },
  "nbformat": 4,
  "nbformat_minor": 0
}